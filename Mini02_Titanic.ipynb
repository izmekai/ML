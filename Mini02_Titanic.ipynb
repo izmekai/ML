{
 "cells": [
  {
   "cell_type": "code",
   "execution_count": 1,
   "id": "5c4189eb",
   "metadata": {
    "_cell_guid": "b1076dfc-b9ad-4769-8c92-a6c4dae69d19",
    "_uuid": "8f2839f25d086af736a60e9eeb907d3b93b6e0e5",
    "execution": {
     "iopub.execute_input": "2023-11-01T15:18:26.400191Z",
     "iopub.status.busy": "2023-11-01T15:18:26.399450Z",
     "iopub.status.idle": "2023-11-01T15:18:26.671894Z",
     "shell.execute_reply": "2023-11-01T15:18:26.671051Z"
    },
    "papermill": {
     "duration": 0.282661,
     "end_time": "2023-11-01T15:18:26.673790",
     "exception": false,
     "start_time": "2023-11-01T15:18:26.391129",
     "status": "completed"
    },
    "tags": []
   },
   "outputs": [
    {
     "name": "stdout",
     "output_type": "stream",
     "text": [
      "/kaggle/input/titanic/train.csv\n",
      "/kaggle/input/titanic/test.csv\n",
      "/kaggle/input/titanic/gender_submission.csv\n"
     ]
    }
   ],
   "source": [
    "# This Python 3 environment comes with many helpful analytics libraries installed\n",
    "# It is defined by the kaggle/python Docker image: https://github.com/kaggle/docker-python\n",
    "# For example, here's several helpful packages to load\n",
    "\n",
    "import numpy as np # linear algebra\n",
    "import pandas as pd # data processing, CSV file I/O (e.g. pd.read_csv)\n",
    "\n",
    "# Input data files are available in the read-only \"../input/\" directory\n",
    "# For example, running this (by clicking run or pressing Shift+Enter) will list all files under the input directory\n",
    "\n",
    "import os\n",
    "for dirname, _, filenames in os.walk('/kaggle/input'):\n",
    "    for filename in filenames:\n",
    "        print(os.path.join(dirname, filename))\n",
    "\n",
    "# You can write up to 20GB to the current directory (/kaggle/working/) that gets preserved as output when you create a version using \"Save & Run All\" \n",
    "# You can also write temporary files to /kaggle/temp/, but they won't be saved outside of the current session"
   ]
  },
  {
   "cell_type": "code",
   "execution_count": 2,
   "id": "3b81bd46",
   "metadata": {
    "execution": {
     "iopub.execute_input": "2023-11-01T15:18:26.688558Z",
     "iopub.status.busy": "2023-11-01T15:18:26.688208Z",
     "iopub.status.idle": "2023-11-01T15:18:26.739163Z",
     "shell.execute_reply": "2023-11-01T15:18:26.738285Z"
    },
    "papermill": {
     "duration": 0.060272,
     "end_time": "2023-11-01T15:18:26.740944",
     "exception": false,
     "start_time": "2023-11-01T15:18:26.680672",
     "status": "completed"
    },
    "tags": []
   },
   "outputs": [
    {
     "name": "stdout",
     "output_type": "stream",
     "text": [
      "<class 'pandas.core.frame.DataFrame'>\n",
      "RangeIndex: 891 entries, 0 to 890\n",
      "Data columns (total 12 columns):\n",
      " #   Column       Non-Null Count  Dtype  \n",
      "---  ------       --------------  -----  \n",
      " 0   PassengerId  891 non-null    int64  \n",
      " 1   Survived     891 non-null    int64  \n",
      " 2   Pclass       891 non-null    int64  \n",
      " 3   Name         891 non-null    object \n",
      " 4   Sex          891 non-null    object \n",
      " 5   Age          714 non-null    float64\n",
      " 6   SibSp        891 non-null    int64  \n",
      " 7   Parch        891 non-null    int64  \n",
      " 8   Ticket       891 non-null    object \n",
      " 9   Fare         891 non-null    float64\n",
      " 10  Cabin        204 non-null    object \n",
      " 11  Embarked     889 non-null    object \n",
      "dtypes: float64(2), int64(5), object(5)\n",
      "memory usage: 83.7+ KB\n"
     ]
    },
    {
     "data": {
      "text/html": [
       "<div>\n",
       "<style scoped>\n",
       "    .dataframe tbody tr th:only-of-type {\n",
       "        vertical-align: middle;\n",
       "    }\n",
       "\n",
       "    .dataframe tbody tr th {\n",
       "        vertical-align: top;\n",
       "    }\n",
       "\n",
       "    .dataframe thead th {\n",
       "        text-align: right;\n",
       "    }\n",
       "</style>\n",
       "<table border=\"1\" class=\"dataframe\">\n",
       "  <thead>\n",
       "    <tr style=\"text-align: right;\">\n",
       "      <th></th>\n",
       "      <th>PassengerId</th>\n",
       "      <th>Survived</th>\n",
       "      <th>Pclass</th>\n",
       "      <th>Name</th>\n",
       "      <th>Sex</th>\n",
       "      <th>Age</th>\n",
       "      <th>SibSp</th>\n",
       "      <th>Parch</th>\n",
       "      <th>Ticket</th>\n",
       "      <th>Fare</th>\n",
       "      <th>Cabin</th>\n",
       "      <th>Embarked</th>\n",
       "    </tr>\n",
       "  </thead>\n",
       "  <tbody>\n",
       "    <tr>\n",
       "      <th>0</th>\n",
       "      <td>1</td>\n",
       "      <td>0</td>\n",
       "      <td>3</td>\n",
       "      <td>Braund, Mr. Owen Harris</td>\n",
       "      <td>male</td>\n",
       "      <td>22.0</td>\n",
       "      <td>1</td>\n",
       "      <td>0</td>\n",
       "      <td>A/5 21171</td>\n",
       "      <td>7.2500</td>\n",
       "      <td>NaN</td>\n",
       "      <td>S</td>\n",
       "    </tr>\n",
       "    <tr>\n",
       "      <th>1</th>\n",
       "      <td>2</td>\n",
       "      <td>1</td>\n",
       "      <td>1</td>\n",
       "      <td>Cumings, Mrs. John Bradley (Florence Briggs Th...</td>\n",
       "      <td>female</td>\n",
       "      <td>38.0</td>\n",
       "      <td>1</td>\n",
       "      <td>0</td>\n",
       "      <td>PC 17599</td>\n",
       "      <td>71.2833</td>\n",
       "      <td>C85</td>\n",
       "      <td>C</td>\n",
       "    </tr>\n",
       "    <tr>\n",
       "      <th>2</th>\n",
       "      <td>3</td>\n",
       "      <td>1</td>\n",
       "      <td>3</td>\n",
       "      <td>Heikkinen, Miss. Laina</td>\n",
       "      <td>female</td>\n",
       "      <td>26.0</td>\n",
       "      <td>0</td>\n",
       "      <td>0</td>\n",
       "      <td>STON/O2. 3101282</td>\n",
       "      <td>7.9250</td>\n",
       "      <td>NaN</td>\n",
       "      <td>S</td>\n",
       "    </tr>\n",
       "    <tr>\n",
       "      <th>3</th>\n",
       "      <td>4</td>\n",
       "      <td>1</td>\n",
       "      <td>1</td>\n",
       "      <td>Futrelle, Mrs. Jacques Heath (Lily May Peel)</td>\n",
       "      <td>female</td>\n",
       "      <td>35.0</td>\n",
       "      <td>1</td>\n",
       "      <td>0</td>\n",
       "      <td>113803</td>\n",
       "      <td>53.1000</td>\n",
       "      <td>C123</td>\n",
       "      <td>S</td>\n",
       "    </tr>\n",
       "    <tr>\n",
       "      <th>4</th>\n",
       "      <td>5</td>\n",
       "      <td>0</td>\n",
       "      <td>3</td>\n",
       "      <td>Allen, Mr. William Henry</td>\n",
       "      <td>male</td>\n",
       "      <td>35.0</td>\n",
       "      <td>0</td>\n",
       "      <td>0</td>\n",
       "      <td>373450</td>\n",
       "      <td>8.0500</td>\n",
       "      <td>NaN</td>\n",
       "      <td>S</td>\n",
       "    </tr>\n",
       "  </tbody>\n",
       "</table>\n",
       "</div>"
      ],
      "text/plain": [
       "   PassengerId  Survived  Pclass  \\\n",
       "0            1         0       3   \n",
       "1            2         1       1   \n",
       "2            3         1       3   \n",
       "3            4         1       1   \n",
       "4            5         0       3   \n",
       "\n",
       "                                                Name     Sex   Age  SibSp  \\\n",
       "0                            Braund, Mr. Owen Harris    male  22.0      1   \n",
       "1  Cumings, Mrs. John Bradley (Florence Briggs Th...  female  38.0      1   \n",
       "2                             Heikkinen, Miss. Laina  female  26.0      0   \n",
       "3       Futrelle, Mrs. Jacques Heath (Lily May Peel)  female  35.0      1   \n",
       "4                           Allen, Mr. William Henry    male  35.0      0   \n",
       "\n",
       "   Parch            Ticket     Fare Cabin Embarked  \n",
       "0      0         A/5 21171   7.2500   NaN        S  \n",
       "1      0          PC 17599  71.2833   C85        C  \n",
       "2      0  STON/O2. 3101282   7.9250   NaN        S  \n",
       "3      0            113803  53.1000  C123        S  \n",
       "4      0            373450   8.0500   NaN        S  "
      ]
     },
     "execution_count": 2,
     "metadata": {},
     "output_type": "execute_result"
    }
   ],
   "source": [
    "# Load Data \n",
    "df = pd.read_csv('/kaggle/input/titanic/train.csv')\n",
    "df.info()\n",
    "df.head()"
   ]
  },
  {
   "cell_type": "code",
   "execution_count": 3,
   "id": "dedd5280",
   "metadata": {
    "execution": {
     "iopub.execute_input": "2023-11-01T15:18:26.756109Z",
     "iopub.status.busy": "2023-11-01T15:18:26.755846Z",
     "iopub.status.idle": "2023-11-01T15:18:26.780736Z",
     "shell.execute_reply": "2023-11-01T15:18:26.779896Z"
    },
    "papermill": {
     "duration": 0.034777,
     "end_time": "2023-11-01T15:18:26.782660",
     "exception": false,
     "start_time": "2023-11-01T15:18:26.747883",
     "status": "completed"
    },
    "tags": []
   },
   "outputs": [
    {
     "data": {
      "text/html": [
       "<div>\n",
       "<style scoped>\n",
       "    .dataframe tbody tr th:only-of-type {\n",
       "        vertical-align: middle;\n",
       "    }\n",
       "\n",
       "    .dataframe tbody tr th {\n",
       "        vertical-align: top;\n",
       "    }\n",
       "\n",
       "    .dataframe thead th {\n",
       "        text-align: right;\n",
       "    }\n",
       "</style>\n",
       "<table border=\"1\" class=\"dataframe\">\n",
       "  <thead>\n",
       "    <tr style=\"text-align: right;\">\n",
       "      <th></th>\n",
       "      <th>PassengerId</th>\n",
       "      <th>Survived</th>\n",
       "      <th>Pclass</th>\n",
       "      <th>Age</th>\n",
       "      <th>SibSp</th>\n",
       "      <th>Parch</th>\n",
       "      <th>Fare</th>\n",
       "    </tr>\n",
       "  </thead>\n",
       "  <tbody>\n",
       "    <tr>\n",
       "      <th>count</th>\n",
       "      <td>891.000000</td>\n",
       "      <td>891.000000</td>\n",
       "      <td>891.000000</td>\n",
       "      <td>714.000000</td>\n",
       "      <td>891.000000</td>\n",
       "      <td>891.000000</td>\n",
       "      <td>891.000000</td>\n",
       "    </tr>\n",
       "    <tr>\n",
       "      <th>mean</th>\n",
       "      <td>446.000000</td>\n",
       "      <td>0.383838</td>\n",
       "      <td>2.308642</td>\n",
       "      <td>29.699118</td>\n",
       "      <td>0.523008</td>\n",
       "      <td>0.381594</td>\n",
       "      <td>32.204208</td>\n",
       "    </tr>\n",
       "    <tr>\n",
       "      <th>std</th>\n",
       "      <td>257.353842</td>\n",
       "      <td>0.486592</td>\n",
       "      <td>0.836071</td>\n",
       "      <td>14.526497</td>\n",
       "      <td>1.102743</td>\n",
       "      <td>0.806057</td>\n",
       "      <td>49.693429</td>\n",
       "    </tr>\n",
       "    <tr>\n",
       "      <th>min</th>\n",
       "      <td>1.000000</td>\n",
       "      <td>0.000000</td>\n",
       "      <td>1.000000</td>\n",
       "      <td>0.420000</td>\n",
       "      <td>0.000000</td>\n",
       "      <td>0.000000</td>\n",
       "      <td>0.000000</td>\n",
       "    </tr>\n",
       "    <tr>\n",
       "      <th>25%</th>\n",
       "      <td>223.500000</td>\n",
       "      <td>0.000000</td>\n",
       "      <td>2.000000</td>\n",
       "      <td>20.125000</td>\n",
       "      <td>0.000000</td>\n",
       "      <td>0.000000</td>\n",
       "      <td>7.910400</td>\n",
       "    </tr>\n",
       "    <tr>\n",
       "      <th>50%</th>\n",
       "      <td>446.000000</td>\n",
       "      <td>0.000000</td>\n",
       "      <td>3.000000</td>\n",
       "      <td>28.000000</td>\n",
       "      <td>0.000000</td>\n",
       "      <td>0.000000</td>\n",
       "      <td>14.454200</td>\n",
       "    </tr>\n",
       "    <tr>\n",
       "      <th>75%</th>\n",
       "      <td>668.500000</td>\n",
       "      <td>1.000000</td>\n",
       "      <td>3.000000</td>\n",
       "      <td>38.000000</td>\n",
       "      <td>1.000000</td>\n",
       "      <td>0.000000</td>\n",
       "      <td>31.000000</td>\n",
       "    </tr>\n",
       "    <tr>\n",
       "      <th>max</th>\n",
       "      <td>891.000000</td>\n",
       "      <td>1.000000</td>\n",
       "      <td>3.000000</td>\n",
       "      <td>80.000000</td>\n",
       "      <td>8.000000</td>\n",
       "      <td>6.000000</td>\n",
       "      <td>512.329200</td>\n",
       "    </tr>\n",
       "  </tbody>\n",
       "</table>\n",
       "</div>"
      ],
      "text/plain": [
       "       PassengerId    Survived      Pclass         Age       SibSp  \\\n",
       "count   891.000000  891.000000  891.000000  714.000000  891.000000   \n",
       "mean    446.000000    0.383838    2.308642   29.699118    0.523008   \n",
       "std     257.353842    0.486592    0.836071   14.526497    1.102743   \n",
       "min       1.000000    0.000000    1.000000    0.420000    0.000000   \n",
       "25%     223.500000    0.000000    2.000000   20.125000    0.000000   \n",
       "50%     446.000000    0.000000    3.000000   28.000000    0.000000   \n",
       "75%     668.500000    1.000000    3.000000   38.000000    1.000000   \n",
       "max     891.000000    1.000000    3.000000   80.000000    8.000000   \n",
       "\n",
       "            Parch        Fare  \n",
       "count  891.000000  891.000000  \n",
       "mean     0.381594   32.204208  \n",
       "std      0.806057   49.693429  \n",
       "min      0.000000    0.000000  \n",
       "25%      0.000000    7.910400  \n",
       "50%      0.000000   14.454200  \n",
       "75%      0.000000   31.000000  \n",
       "max      6.000000  512.329200  "
      ]
     },
     "execution_count": 3,
     "metadata": {},
     "output_type": "execute_result"
    }
   ],
   "source": [
    "df.describe()"
   ]
  },
  {
   "cell_type": "code",
   "execution_count": 4,
   "id": "ae27bba1",
   "metadata": {
    "execution": {
     "iopub.execute_input": "2023-11-01T15:18:26.798014Z",
     "iopub.status.busy": "2023-11-01T15:18:26.797750Z",
     "iopub.status.idle": "2023-11-01T15:18:26.803749Z",
     "shell.execute_reply": "2023-11-01T15:18:26.802589Z"
    },
    "papermill": {
     "duration": 0.015315,
     "end_time": "2023-11-01T15:18:26.805306",
     "exception": false,
     "start_time": "2023-11-01T15:18:26.789991",
     "status": "completed"
    },
    "tags": []
   },
   "outputs": [
    {
     "name": "stdout",
     "output_type": "stream",
     "text": [
      "Age = 35  ==> 18\n",
      "Age = 22  ==> 27\n",
      "Age = 29  ==> 20\n"
     ]
    }
   ],
   "source": [
    "print('Age = 35  ==>', (df['Age']==35).sum())\n",
    "print('Age = 22  ==>', (df['Age']==22).sum())\n",
    "print('Age = 29  ==>', (df['Age']==29).sum())"
   ]
  },
  {
   "cell_type": "markdown",
   "id": "17168908",
   "metadata": {
    "_kg_hide-input": true,
    "papermill": {
     "duration": 0.006837,
     "end_time": "2023-11-01T15:18:26.819325",
     "exception": false,
     "start_time": "2023-11-01T15:18:26.812488",
     "status": "completed"
    },
    "tags": []
   },
   "source": [
    "So,\n",
    "1.  ***some columns are not Important for train the model, like (names, Ticket, PassngerID)***\n",
    "2.  ***we see also that there are some Missing data values in : ('age', 'Cabin', 'Embarked')***\n",
    "3.  ***Dtype is not Clean (some are int64, some are float64, and some object)***"
   ]
  },
  {
   "cell_type": "code",
   "execution_count": 5,
   "id": "279d6cb5",
   "metadata": {
    "execution": {
     "iopub.execute_input": "2023-11-01T15:18:26.834413Z",
     "iopub.status.busy": "2023-11-01T15:18:26.834168Z",
     "iopub.status.idle": "2023-11-01T15:18:26.848100Z",
     "shell.execute_reply": "2023-11-01T15:18:26.847485Z"
    },
    "papermill": {
     "duration": 0.023256,
     "end_time": "2023-11-01T15:18:26.849575",
     "exception": false,
     "start_time": "2023-11-01T15:18:26.826319",
     "status": "completed"
    },
    "tags": []
   },
   "outputs": [
    {
     "data": {
      "text/html": [
       "<div>\n",
       "<style scoped>\n",
       "    .dataframe tbody tr th:only-of-type {\n",
       "        vertical-align: middle;\n",
       "    }\n",
       "\n",
       "    .dataframe tbody tr th {\n",
       "        vertical-align: top;\n",
       "    }\n",
       "\n",
       "    .dataframe thead th {\n",
       "        text-align: right;\n",
       "    }\n",
       "</style>\n",
       "<table border=\"1\" class=\"dataframe\">\n",
       "  <thead>\n",
       "    <tr style=\"text-align: right;\">\n",
       "      <th></th>\n",
       "      <th>Pclass</th>\n",
       "      <th>Sex</th>\n",
       "      <th>Age</th>\n",
       "      <th>SibSp</th>\n",
       "      <th>Parch</th>\n",
       "      <th>Fare</th>\n",
       "      <th>Embarked</th>\n",
       "      <th>Survived</th>\n",
       "    </tr>\n",
       "  </thead>\n",
       "  <tbody>\n",
       "    <tr>\n",
       "      <th>0</th>\n",
       "      <td>3</td>\n",
       "      <td>male</td>\n",
       "      <td>22.0</td>\n",
       "      <td>1</td>\n",
       "      <td>0</td>\n",
       "      <td>7.2500</td>\n",
       "      <td>S</td>\n",
       "      <td>0</td>\n",
       "    </tr>\n",
       "    <tr>\n",
       "      <th>1</th>\n",
       "      <td>1</td>\n",
       "      <td>female</td>\n",
       "      <td>38.0</td>\n",
       "      <td>1</td>\n",
       "      <td>0</td>\n",
       "      <td>71.2833</td>\n",
       "      <td>C</td>\n",
       "      <td>1</td>\n",
       "    </tr>\n",
       "    <tr>\n",
       "      <th>2</th>\n",
       "      <td>3</td>\n",
       "      <td>female</td>\n",
       "      <td>26.0</td>\n",
       "      <td>0</td>\n",
       "      <td>0</td>\n",
       "      <td>7.9250</td>\n",
       "      <td>S</td>\n",
       "      <td>1</td>\n",
       "    </tr>\n",
       "    <tr>\n",
       "      <th>3</th>\n",
       "      <td>1</td>\n",
       "      <td>female</td>\n",
       "      <td>35.0</td>\n",
       "      <td>1</td>\n",
       "      <td>0</td>\n",
       "      <td>53.1000</td>\n",
       "      <td>S</td>\n",
       "      <td>1</td>\n",
       "    </tr>\n",
       "    <tr>\n",
       "      <th>4</th>\n",
       "      <td>3</td>\n",
       "      <td>male</td>\n",
       "      <td>35.0</td>\n",
       "      <td>0</td>\n",
       "      <td>0</td>\n",
       "      <td>8.0500</td>\n",
       "      <td>S</td>\n",
       "      <td>0</td>\n",
       "    </tr>\n",
       "  </tbody>\n",
       "</table>\n",
       "</div>"
      ],
      "text/plain": [
       "   Pclass     Sex   Age  SibSp  Parch     Fare Embarked  Survived\n",
       "0       3    male  22.0      1      0   7.2500        S         0\n",
       "1       1  female  38.0      1      0  71.2833        C         1\n",
       "2       3  female  26.0      0      0   7.9250        S         1\n",
       "3       1  female  35.0      1      0  53.1000        S         1\n",
       "4       3    male  35.0      0      0   8.0500        S         0"
      ]
     },
     "execution_count": 5,
     "metadata": {},
     "output_type": "execute_result"
    }
   ],
   "source": [
    "# we choose the only columns what we need for out Model\n",
    "df = df[['Pclass', 'Sex', 'Age', 'SibSp', 'Parch', 'Fare', 'Embarked', 'Survived']]\n",
    "df.head()"
   ]
  },
  {
   "cell_type": "code",
   "execution_count": 6,
   "id": "5da204ec",
   "metadata": {
    "execution": {
     "iopub.execute_input": "2023-11-01T15:18:26.865837Z",
     "iopub.status.busy": "2023-11-01T15:18:26.865338Z",
     "iopub.status.idle": "2023-11-01T15:18:26.876039Z",
     "shell.execute_reply": "2023-11-01T15:18:26.875239Z"
    },
    "papermill": {
     "duration": 0.020529,
     "end_time": "2023-11-01T15:18:26.877578",
     "exception": false,
     "start_time": "2023-11-01T15:18:26.857049",
     "status": "completed"
    },
    "tags": []
   },
   "outputs": [
    {
     "data": {
      "text/html": [
       "<div>\n",
       "<style scoped>\n",
       "    .dataframe tbody tr th:only-of-type {\n",
       "        vertical-align: middle;\n",
       "    }\n",
       "\n",
       "    .dataframe tbody tr th {\n",
       "        vertical-align: top;\n",
       "    }\n",
       "\n",
       "    .dataframe thead th {\n",
       "        text-align: right;\n",
       "    }\n",
       "</style>\n",
       "<table border=\"1\" class=\"dataframe\">\n",
       "  <thead>\n",
       "    <tr style=\"text-align: right;\">\n",
       "      <th></th>\n",
       "      <th>Pclass</th>\n",
       "      <th>Sex</th>\n",
       "      <th>Age</th>\n",
       "      <th>SibSp</th>\n",
       "      <th>Parch</th>\n",
       "      <th>Fare</th>\n",
       "      <th>Embarked</th>\n",
       "      <th>Survived</th>\n",
       "    </tr>\n",
       "  </thead>\n",
       "  <tbody>\n",
       "    <tr>\n",
       "      <th>0</th>\n",
       "      <td>3</td>\n",
       "      <td>1</td>\n",
       "      <td>22.0</td>\n",
       "      <td>1</td>\n",
       "      <td>0</td>\n",
       "      <td>7.2500</td>\n",
       "      <td>S</td>\n",
       "      <td>0</td>\n",
       "    </tr>\n",
       "    <tr>\n",
       "      <th>1</th>\n",
       "      <td>1</td>\n",
       "      <td>0</td>\n",
       "      <td>38.0</td>\n",
       "      <td>1</td>\n",
       "      <td>0</td>\n",
       "      <td>71.2833</td>\n",
       "      <td>C</td>\n",
       "      <td>1</td>\n",
       "    </tr>\n",
       "    <tr>\n",
       "      <th>2</th>\n",
       "      <td>3</td>\n",
       "      <td>0</td>\n",
       "      <td>26.0</td>\n",
       "      <td>0</td>\n",
       "      <td>0</td>\n",
       "      <td>7.9250</td>\n",
       "      <td>S</td>\n",
       "      <td>1</td>\n",
       "    </tr>\n",
       "    <tr>\n",
       "      <th>3</th>\n",
       "      <td>1</td>\n",
       "      <td>0</td>\n",
       "      <td>35.0</td>\n",
       "      <td>1</td>\n",
       "      <td>0</td>\n",
       "      <td>53.1000</td>\n",
       "      <td>S</td>\n",
       "      <td>1</td>\n",
       "    </tr>\n",
       "    <tr>\n",
       "      <th>4</th>\n",
       "      <td>3</td>\n",
       "      <td>1</td>\n",
       "      <td>35.0</td>\n",
       "      <td>0</td>\n",
       "      <td>0</td>\n",
       "      <td>8.0500</td>\n",
       "      <td>S</td>\n",
       "      <td>0</td>\n",
       "    </tr>\n",
       "  </tbody>\n",
       "</table>\n",
       "</div>"
      ],
      "text/plain": [
       "   Pclass  Sex   Age  SibSp  Parch     Fare Embarked  Survived\n",
       "0       3    1  22.0      1      0   7.2500        S         0\n",
       "1       1    0  38.0      1      0  71.2833        C         1\n",
       "2       3    0  26.0      0      0   7.9250        S         1\n",
       "3       1    0  35.0      1      0  53.1000        S         1\n",
       "4       3    1  35.0      0      0   8.0500        S         0"
      ]
     },
     "execution_count": 6,
     "metadata": {},
     "output_type": "execute_result"
    }
   ],
   "source": [
    "# converting the Sex from male/female to 1/0 (int Dtype)\n",
    "\n",
    "df['Sex'] = (df['Sex']=='male').astype(int)\n",
    "df.head()"
   ]
  },
  {
   "cell_type": "code",
   "execution_count": 7,
   "id": "ae858e28",
   "metadata": {
    "execution": {
     "iopub.execute_input": "2023-11-01T15:18:26.893304Z",
     "iopub.status.busy": "2023-11-01T15:18:26.893038Z",
     "iopub.status.idle": "2023-11-01T15:18:27.788740Z",
     "shell.execute_reply": "2023-11-01T15:18:27.786826Z"
    },
    "papermill": {
     "duration": 0.905614,
     "end_time": "2023-11-01T15:18:27.790597",
     "exception": false,
     "start_time": "2023-11-01T15:18:26.884983",
     "status": "completed"
    },
    "tags": []
   },
   "outputs": [
    {
     "name": "stdout",
     "output_type": "stream",
     "text": [
      "<class 'pandas.core.frame.DataFrame'>\n",
      "RangeIndex: 891 entries, 0 to 890\n",
      "Data columns (total 8 columns):\n",
      " #   Column    Non-Null Count  Dtype  \n",
      "---  ------    --------------  -----  \n",
      " 0   Pclass    891 non-null    int64  \n",
      " 1   Sex       891 non-null    int64  \n",
      " 2   Age       714 non-null    float64\n",
      " 3   SibSp     891 non-null    int64  \n",
      " 4   Parch     891 non-null    int64  \n",
      " 5   Fare      891 non-null    float64\n",
      " 6   Embarked  891 non-null    int64  \n",
      " 7   Survived  891 non-null    int64  \n",
      "dtypes: float64(2), int64(6)\n",
      "memory usage: 55.8 KB\n"
     ]
    },
    {
     "data": {
      "text/html": [
       "<div>\n",
       "<style scoped>\n",
       "    .dataframe tbody tr th:only-of-type {\n",
       "        vertical-align: middle;\n",
       "    }\n",
       "\n",
       "    .dataframe tbody tr th {\n",
       "        vertical-align: top;\n",
       "    }\n",
       "\n",
       "    .dataframe thead th {\n",
       "        text-align: right;\n",
       "    }\n",
       "</style>\n",
       "<table border=\"1\" class=\"dataframe\">\n",
       "  <thead>\n",
       "    <tr style=\"text-align: right;\">\n",
       "      <th></th>\n",
       "      <th>Pclass</th>\n",
       "      <th>Sex</th>\n",
       "      <th>Age</th>\n",
       "      <th>SibSp</th>\n",
       "      <th>Parch</th>\n",
       "      <th>Fare</th>\n",
       "      <th>Embarked</th>\n",
       "      <th>Survived</th>\n",
       "    </tr>\n",
       "  </thead>\n",
       "  <tbody>\n",
       "    <tr>\n",
       "      <th>0</th>\n",
       "      <td>3</td>\n",
       "      <td>1</td>\n",
       "      <td>22.0</td>\n",
       "      <td>1</td>\n",
       "      <td>0</td>\n",
       "      <td>7.2500</td>\n",
       "      <td>2</td>\n",
       "      <td>0</td>\n",
       "    </tr>\n",
       "    <tr>\n",
       "      <th>1</th>\n",
       "      <td>1</td>\n",
       "      <td>0</td>\n",
       "      <td>38.0</td>\n",
       "      <td>1</td>\n",
       "      <td>0</td>\n",
       "      <td>71.2833</td>\n",
       "      <td>0</td>\n",
       "      <td>1</td>\n",
       "    </tr>\n",
       "    <tr>\n",
       "      <th>2</th>\n",
       "      <td>3</td>\n",
       "      <td>0</td>\n",
       "      <td>26.0</td>\n",
       "      <td>0</td>\n",
       "      <td>0</td>\n",
       "      <td>7.9250</td>\n",
       "      <td>2</td>\n",
       "      <td>1</td>\n",
       "    </tr>\n",
       "    <tr>\n",
       "      <th>3</th>\n",
       "      <td>1</td>\n",
       "      <td>0</td>\n",
       "      <td>35.0</td>\n",
       "      <td>1</td>\n",
       "      <td>0</td>\n",
       "      <td>53.1000</td>\n",
       "      <td>2</td>\n",
       "      <td>1</td>\n",
       "    </tr>\n",
       "    <tr>\n",
       "      <th>4</th>\n",
       "      <td>3</td>\n",
       "      <td>1</td>\n",
       "      <td>35.0</td>\n",
       "      <td>0</td>\n",
       "      <td>0</td>\n",
       "      <td>8.0500</td>\n",
       "      <td>2</td>\n",
       "      <td>0</td>\n",
       "    </tr>\n",
       "  </tbody>\n",
       "</table>\n",
       "</div>"
      ],
      "text/plain": [
       "   Pclass  Sex   Age  SibSp  Parch     Fare  Embarked  Survived\n",
       "0       3    1  22.0      1      0   7.2500         2         0\n",
       "1       1    0  38.0      1      0  71.2833         0         1\n",
       "2       3    0  26.0      0      0   7.9250         2         1\n",
       "3       1    0  35.0      1      0  53.1000         2         1\n",
       "4       3    1  35.0      0      0   8.0500         2         0"
      ]
     },
     "execution_count": 7,
     "metadata": {},
     "output_type": "execute_result"
    }
   ],
   "source": [
    "# convert the Embarked from object to int using labelencoder\n",
    "\n",
    "from sklearn.preprocessing import LabelEncoder\n",
    "\n",
    "lbl_encdr = LabelEncoder()\n",
    "df['Embarked']=lbl_encdr.fit_transform(df['Embarked'])\n",
    "\n",
    "\n",
    "df.info()\n",
    "df.head()"
   ]
  },
  {
   "cell_type": "code",
   "execution_count": 8,
   "id": "03f3e75b",
   "metadata": {
    "execution": {
     "iopub.execute_input": "2023-11-01T15:18:27.807301Z",
     "iopub.status.busy": "2023-11-01T15:18:27.807010Z",
     "iopub.status.idle": "2023-11-01T15:18:27.812712Z",
     "shell.execute_reply": "2023-11-01T15:18:27.812132Z"
    },
    "papermill": {
     "duration": 0.015632,
     "end_time": "2023-11-01T15:18:27.814136",
     "exception": false,
     "start_time": "2023-11-01T15:18:27.798504",
     "status": "completed"
    },
    "tags": []
   },
   "outputs": [
    {
     "data": {
      "text/plain": [
       "Pclass        0\n",
       "Sex           0\n",
       "Age         177\n",
       "SibSp         0\n",
       "Parch         0\n",
       "Fare          0\n",
       "Embarked      0\n",
       "Survived      0\n",
       "dtype: int64"
      ]
     },
     "execution_count": 8,
     "metadata": {},
     "output_type": "execute_result"
    }
   ],
   "source": [
    "# check for collumns with messing Values : \n",
    "\n",
    "df.isnull().sum()"
   ]
  },
  {
   "cell_type": "markdown",
   "id": "259a6e08",
   "metadata": {
    "papermill": {
     "duration": 0.007406,
     "end_time": "2023-11-01T15:18:27.829712",
     "exception": false,
     "start_time": "2023-11-01T15:18:27.822306",
     "status": "completed"
    },
    "tags": []
   },
   "source": [
    "we can see that there is 177 messing value in the Age column"
   ]
  },
  {
   "cell_type": "code",
   "execution_count": 9,
   "id": "489ea12b",
   "metadata": {
    "execution": {
     "iopub.execute_input": "2023-11-01T15:18:27.852803Z",
     "iopub.status.busy": "2023-11-01T15:18:27.852268Z",
     "iopub.status.idle": "2023-11-01T15:18:27.863663Z",
     "shell.execute_reply": "2023-11-01T15:18:27.862441Z"
    },
    "papermill": {
     "duration": 0.027004,
     "end_time": "2023-11-01T15:18:27.865762",
     "exception": false,
     "start_time": "2023-11-01T15:18:27.838758",
     "status": "completed"
    },
    "tags": []
   },
   "outputs": [
    {
     "name": "stdout",
     "output_type": "stream",
     "text": [
      "<class 'pandas.core.frame.DataFrame'>\n",
      "RangeIndex: 891 entries, 0 to 890\n",
      "Data columns (total 8 columns):\n",
      " #   Column    Non-Null Count  Dtype  \n",
      "---  ------    --------------  -----  \n",
      " 0   Pclass    891 non-null    int64  \n",
      " 1   Sex       891 non-null    int64  \n",
      " 2   Age       891 non-null    float64\n",
      " 3   SibSp     891 non-null    int64  \n",
      " 4   Parch     891 non-null    int64  \n",
      " 5   Fare      891 non-null    float64\n",
      " 6   Embarked  891 non-null    int64  \n",
      " 7   Survived  891 non-null    int64  \n",
      "dtypes: float64(2), int64(6)\n",
      "memory usage: 55.8 KB\n"
     ]
    }
   ],
   "source": [
    "# we fill the missing values Using the mean  \n",
    "df['Age'].fillna(df['Age'].mean(), inplace=True)\n",
    "df.info()"
   ]
  },
  {
   "cell_type": "code",
   "execution_count": 10,
   "id": "e2df8f27",
   "metadata": {
    "execution": {
     "iopub.execute_input": "2023-11-01T15:18:27.890458Z",
     "iopub.status.busy": "2023-11-01T15:18:27.890158Z",
     "iopub.status.idle": "2023-11-01T15:18:27.900803Z",
     "shell.execute_reply": "2023-11-01T15:18:27.899722Z"
    },
    "papermill": {
     "duration": 0.026128,
     "end_time": "2023-11-01T15:18:27.902651",
     "exception": false,
     "start_time": "2023-11-01T15:18:27.876523",
     "status": "completed"
    },
    "tags": []
   },
   "outputs": [
    {
     "name": "stdout",
     "output_type": "stream",
     "text": [
      "<class 'pandas.core.frame.DataFrame'>\n",
      "RangeIndex: 891 entries, 0 to 890\n",
      "Data columns (total 8 columns):\n",
      " #   Column    Non-Null Count  Dtype  \n",
      "---  ------    --------------  -----  \n",
      " 0   Pclass    891 non-null    float64\n",
      " 1   Sex       891 non-null    float64\n",
      " 2   Age       891 non-null    float64\n",
      " 3   SibSp     891 non-null    float64\n",
      " 4   Parch     891 non-null    float64\n",
      " 5   Fare      891 non-null    float64\n",
      " 6   Embarked  891 non-null    float64\n",
      " 7   Survived  891 non-null    float64\n",
      "dtypes: float64(8)\n",
      "memory usage: 55.8 KB\n"
     ]
    }
   ],
   "source": [
    "# convert all the values toy float\n",
    "df = df.astype(float)\n",
    "df.info()"
   ]
  },
  {
   "cell_type": "markdown",
   "id": "dda4d10a",
   "metadata": {
    "papermill": {
     "duration": 0.008807,
     "end_time": "2023-11-01T15:18:27.922562",
     "exception": false,
     "start_time": "2023-11-01T15:18:27.913755",
     "status": "completed"
    },
    "tags": []
   },
   "source": [
    "***Now, We can see that there is no messing Values, and no Object Dtyape, and all are Float numbers***"
   ]
  },
  {
   "cell_type": "code",
   "execution_count": 11,
   "id": "fa4c39c1",
   "metadata": {
    "execution": {
     "iopub.execute_input": "2023-11-01T15:18:27.940212Z",
     "iopub.status.busy": "2023-11-01T15:18:27.939581Z",
     "iopub.status.idle": "2023-11-01T15:18:27.945831Z",
     "shell.execute_reply": "2023-11-01T15:18:27.945127Z"
    },
    "papermill": {
     "duration": 0.016816,
     "end_time": "2023-11-01T15:18:27.947354",
     "exception": false,
     "start_time": "2023-11-01T15:18:27.930538",
     "status": "completed"
    },
    "tags": []
   },
   "outputs": [],
   "source": [
    "# Split data to Train, and valid sets! \n",
    "np.random.seed(42)\n",
    "Train, valid = np.split(df.sample(frac=1), [round(0.8*int(len(df)))])\n",
    "np.random.seed()"
   ]
  },
  {
   "cell_type": "code",
   "execution_count": 12,
   "id": "c5871607",
   "metadata": {
    "execution": {
     "iopub.execute_input": "2023-11-01T15:18:27.965276Z",
     "iopub.status.busy": "2023-11-01T15:18:27.964662Z",
     "iopub.status.idle": "2023-11-01T15:18:27.969276Z",
     "shell.execute_reply": "2023-11-01T15:18:27.968435Z"
    },
    "papermill": {
     "duration": 0.015225,
     "end_time": "2023-11-01T15:18:27.970792",
     "exception": false,
     "start_time": "2023-11-01T15:18:27.955567",
     "status": "completed"
    },
    "tags": []
   },
   "outputs": [
    {
     "name": "stdout",
     "output_type": "stream",
     "text": [
      "(713, 8)\n",
      "(178, 8)\n"
     ]
    }
   ],
   "source": [
    "print(Train.shape)\n",
    "print(valid.shape)"
   ]
  },
  {
   "cell_type": "code",
   "execution_count": 13,
   "id": "a1e5d10c",
   "metadata": {
    "execution": {
     "iopub.execute_input": "2023-11-01T15:18:27.993682Z",
     "iopub.status.busy": "2023-11-01T15:18:27.993029Z",
     "iopub.status.idle": "2023-11-01T15:18:28.590500Z",
     "shell.execute_reply": "2023-11-01T15:18:28.589619Z"
    },
    "papermill": {
     "duration": 0.613826,
     "end_time": "2023-11-01T15:18:28.592643",
     "exception": false,
     "start_time": "2023-11-01T15:18:27.978817",
     "status": "completed"
    },
    "tags": []
   },
   "outputs": [],
   "source": [
    "# Defin the Features and Target in the sets, and Scale and oversample it ! \n",
    "# creat/defin the Function : \n",
    "\n",
    "from sklearn.preprocessing import StandardScaler\n",
    "from imblearn.over_sampling import RandomOverSampler\n",
    "\n",
    "def scal_ros_data(dataframe, oversample=True):\n",
    "    X = dataframe[dataframe.columns[:-1]].values\n",
    "    y = dataframe[dataframe.columns[-1]].values\n",
    "    \n",
    "    scaler = StandardScaler()\n",
    "    X = scaler.fit_transform(X)\n",
    "    \n",
    "    if oversample : \n",
    "        ros = RandomOverSampler()\n",
    "        X, y = ros.fit_resample(X, y)\n",
    "        \n",
    "    data = np.hstack((X, np.reshape(y, (-1,1))))\n",
    "    \n",
    "    return data, X, y \n",
    "    "
   ]
  },
  {
   "cell_type": "code",
   "execution_count": 14,
   "id": "683b5d10",
   "metadata": {
    "execution": {
     "iopub.execute_input": "2023-11-01T15:18:28.610904Z",
     "iopub.status.busy": "2023-11-01T15:18:28.610479Z",
     "iopub.status.idle": "2023-11-01T15:18:28.618975Z",
     "shell.execute_reply": "2023-11-01T15:18:28.618296Z"
    },
    "papermill": {
     "duration": 0.019491,
     "end_time": "2023-11-01T15:18:28.620634",
     "exception": false,
     "start_time": "2023-11-01T15:18:28.601143",
     "status": "completed"
    },
    "tags": []
   },
   "outputs": [],
   "source": [
    "# Call the Fonction : \n",
    "np.random.seed(42)\n",
    "Train, X_Train, y_Train = scal_ros_data(Train, oversample=True)\n",
    "Valid, X_Valid, y_Valid = scal_ros_data(valid, oversample=False)\n",
    "np.random.seed()"
   ]
  },
  {
   "cell_type": "code",
   "execution_count": 15,
   "id": "eaf2e800",
   "metadata": {
    "execution": {
     "iopub.execute_input": "2023-11-01T15:18:28.637786Z",
     "iopub.status.busy": "2023-11-01T15:18:28.637510Z",
     "iopub.status.idle": "2023-11-01T15:18:28.642278Z",
     "shell.execute_reply": "2023-11-01T15:18:28.641440Z"
    },
    "papermill": {
     "duration": 0.015105,
     "end_time": "2023-11-01T15:18:28.643956",
     "exception": false,
     "start_time": "2023-11-01T15:18:28.628851",
     "status": "completed"
    },
    "tags": []
   },
   "outputs": [
    {
     "name": "stdout",
     "output_type": "stream",
     "text": [
      "Train shape :(872, 8) | X_train shape:(872, 7), | y_Train shape:(872,)\n",
      "Valid shape :(178, 8) | X_Valid shape:(178, 7), | y_Valid shape:(178,)\n"
     ]
    }
   ],
   "source": [
    "print('Train shape :{} | X_train shape:{}, | y_Train shape:{}'.format(Train.shape, X_Train.shape, y_Train.shape))\n",
    "print('Valid shape :{} | X_Valid shape:{}, | y_Valid shape:{}'.format(Valid.shape, X_Valid.shape, y_Valid.shape))"
   ]
  },
  {
   "cell_type": "code",
   "execution_count": 16,
   "id": "c4df4d39",
   "metadata": {
    "execution": {
     "iopub.execute_input": "2023-11-01T15:18:28.661192Z",
     "iopub.status.busy": "2023-11-01T15:18:28.660586Z",
     "iopub.status.idle": "2023-11-01T15:18:28.663783Z",
     "shell.execute_reply": "2023-11-01T15:18:28.663260Z"
    },
    "papermill": {
     "duration": 0.01332,
     "end_time": "2023-11-01T15:18:28.665212",
     "exception": false,
     "start_time": "2023-11-01T15:18:28.651892",
     "status": "completed"
    },
    "tags": []
   },
   "outputs": [],
   "source": [
    "# Import Knn libraries \n",
    "from sklearn.neighbors import KNeighborsClassifier \n",
    "from sklearn.model_selection import GridSearchCV\n"
   ]
  },
  {
   "cell_type": "code",
   "execution_count": 17,
   "id": "3e4b89a9",
   "metadata": {
    "execution": {
     "iopub.execute_input": "2023-11-01T15:18:28.682120Z",
     "iopub.status.busy": "2023-11-01T15:18:28.681722Z",
     "iopub.status.idle": "2023-11-01T15:18:29.297017Z",
     "shell.execute_reply": "2023-11-01T15:18:29.295837Z"
    },
    "papermill": {
     "duration": 0.626279,
     "end_time": "2023-11-01T15:18:29.299310",
     "exception": false,
     "start_time": "2023-11-01T15:18:28.673031",
     "status": "completed"
    },
    "tags": []
   },
   "outputs": [
    {
     "name": "stdout",
     "output_type": "stream",
     "text": [
      "{'n_neighbors': 10, 'p': 1, 'weights': 'distance'}\n"
     ]
    }
   ],
   "source": [
    "# defin the Values for the hyperparameters \n",
    "\n",
    "look_best_param = {\n",
    "    'n_neighbors': [5, 10, 15, 35],\n",
    "    'weights': ['uniform', 'distance'],\n",
    "    'p': [1, 2],\n",
    "}\n",
    "\n",
    "# defin the Grid Searche CV \n",
    "\n",
    "grid_sear = GridSearchCV(KNeighborsClassifier(), look_best_param, cv=5)\n",
    "grid_sear.fit(X_Train, y_Train)\n",
    "\n",
    "# Defin the best Parameters \n",
    "best_param = grid_sear.best_params_ \n",
    "\n",
    "print(best_param)"
   ]
  },
  {
   "cell_type": "markdown",
   "id": "b303daa2",
   "metadata": {
    "papermill": {
     "duration": 0.008241,
     "end_time": "2023-11-01T15:18:29.316460",
     "exception": false,
     "start_time": "2023-11-01T15:18:29.308219",
     "status": "completed"
    },
    "tags": []
   },
   "source": [
    "***The best VALUES ***"
   ]
  },
  {
   "cell_type": "markdown",
   "id": "42abf857",
   "metadata": {
    "papermill": {
     "duration": 0.007958,
     "end_time": "2023-11-01T15:18:29.332771",
     "exception": false,
     "start_time": "2023-11-01T15:18:29.324813",
     "status": "completed"
    },
    "tags": []
   },
   "source": [
    "* **n_neighbors: 5**\n",
    "* **p: 1**\n",
    "* **weights: 'distance'**"
   ]
  },
  {
   "cell_type": "code",
   "execution_count": 18,
   "id": "c7d6f50b",
   "metadata": {
    "execution": {
     "iopub.execute_input": "2023-11-01T15:18:29.350735Z",
     "iopub.status.busy": "2023-11-01T15:18:29.350399Z",
     "iopub.status.idle": "2023-11-01T15:18:29.362544Z",
     "shell.execute_reply": "2023-11-01T15:18:29.361879Z"
    },
    "papermill": {
     "duration": 0.023009,
     "end_time": "2023-11-01T15:18:29.364113",
     "exception": false,
     "start_time": "2023-11-01T15:18:29.341104",
     "status": "completed"
    },
    "tags": []
   },
   "outputs": [
    {
     "data": {
      "text/html": [
       "<style>#sk-container-id-1 {color: black;background-color: white;}#sk-container-id-1 pre{padding: 0;}#sk-container-id-1 div.sk-toggleable {background-color: white;}#sk-container-id-1 label.sk-toggleable__label {cursor: pointer;display: block;width: 100%;margin-bottom: 0;padding: 0.3em;box-sizing: border-box;text-align: center;}#sk-container-id-1 label.sk-toggleable__label-arrow:before {content: \"▸\";float: left;margin-right: 0.25em;color: #696969;}#sk-container-id-1 label.sk-toggleable__label-arrow:hover:before {color: black;}#sk-container-id-1 div.sk-estimator:hover label.sk-toggleable__label-arrow:before {color: black;}#sk-container-id-1 div.sk-toggleable__content {max-height: 0;max-width: 0;overflow: hidden;text-align: left;background-color: #f0f8ff;}#sk-container-id-1 div.sk-toggleable__content pre {margin: 0.2em;color: black;border-radius: 0.25em;background-color: #f0f8ff;}#sk-container-id-1 input.sk-toggleable__control:checked~div.sk-toggleable__content {max-height: 200px;max-width: 100%;overflow: auto;}#sk-container-id-1 input.sk-toggleable__control:checked~label.sk-toggleable__label-arrow:before {content: \"▾\";}#sk-container-id-1 div.sk-estimator input.sk-toggleable__control:checked~label.sk-toggleable__label {background-color: #d4ebff;}#sk-container-id-1 div.sk-label input.sk-toggleable__control:checked~label.sk-toggleable__label {background-color: #d4ebff;}#sk-container-id-1 input.sk-hidden--visually {border: 0;clip: rect(1px 1px 1px 1px);clip: rect(1px, 1px, 1px, 1px);height: 1px;margin: -1px;overflow: hidden;padding: 0;position: absolute;width: 1px;}#sk-container-id-1 div.sk-estimator {font-family: monospace;background-color: #f0f8ff;border: 1px dotted black;border-radius: 0.25em;box-sizing: border-box;margin-bottom: 0.5em;}#sk-container-id-1 div.sk-estimator:hover {background-color: #d4ebff;}#sk-container-id-1 div.sk-parallel-item::after {content: \"\";width: 100%;border-bottom: 1px solid gray;flex-grow: 1;}#sk-container-id-1 div.sk-label:hover label.sk-toggleable__label {background-color: #d4ebff;}#sk-container-id-1 div.sk-serial::before {content: \"\";position: absolute;border-left: 1px solid gray;box-sizing: border-box;top: 0;bottom: 0;left: 50%;z-index: 0;}#sk-container-id-1 div.sk-serial {display: flex;flex-direction: column;align-items: center;background-color: white;padding-right: 0.2em;padding-left: 0.2em;position: relative;}#sk-container-id-1 div.sk-item {position: relative;z-index: 1;}#sk-container-id-1 div.sk-parallel {display: flex;align-items: stretch;justify-content: center;background-color: white;position: relative;}#sk-container-id-1 div.sk-item::before, #sk-container-id-1 div.sk-parallel-item::before {content: \"\";position: absolute;border-left: 1px solid gray;box-sizing: border-box;top: 0;bottom: 0;left: 50%;z-index: -1;}#sk-container-id-1 div.sk-parallel-item {display: flex;flex-direction: column;z-index: 1;position: relative;background-color: white;}#sk-container-id-1 div.sk-parallel-item:first-child::after {align-self: flex-end;width: 50%;}#sk-container-id-1 div.sk-parallel-item:last-child::after {align-self: flex-start;width: 50%;}#sk-container-id-1 div.sk-parallel-item:only-child::after {width: 0;}#sk-container-id-1 div.sk-dashed-wrapped {border: 1px dashed gray;margin: 0 0.4em 0.5em 0.4em;box-sizing: border-box;padding-bottom: 0.4em;background-color: white;}#sk-container-id-1 div.sk-label label {font-family: monospace;font-weight: bold;display: inline-block;line-height: 1.2em;}#sk-container-id-1 div.sk-label-container {text-align: center;}#sk-container-id-1 div.sk-container {/* jupyter's `normalize.less` sets `[hidden] { display: none; }` but bootstrap.min.css set `[hidden] { display: none !important; }` so we also need the `!important` here to be able to override the default hidden behavior on the sphinx rendered scikit-learn.org. See: https://github.com/scikit-learn/scikit-learn/issues/21755 */display: inline-block !important;position: relative;}#sk-container-id-1 div.sk-text-repr-fallback {display: none;}</style><div id=\"sk-container-id-1\" class=\"sk-top-container\"><div class=\"sk-text-repr-fallback\"><pre>KNeighborsClassifier(n_neighbors=80)</pre><b>In a Jupyter environment, please rerun this cell to show the HTML representation or trust the notebook. <br />On GitHub, the HTML representation is unable to render, please try loading this page with nbviewer.org.</b></div><div class=\"sk-container\" hidden><div class=\"sk-item\"><div class=\"sk-estimator sk-toggleable\"><input class=\"sk-toggleable__control sk-hidden--visually\" id=\"sk-estimator-id-1\" type=\"checkbox\" checked><label for=\"sk-estimator-id-1\" class=\"sk-toggleable__label sk-toggleable__label-arrow\">KNeighborsClassifier</label><div class=\"sk-toggleable__content\"><pre>KNeighborsClassifier(n_neighbors=80)</pre></div></div></div></div></div>"
      ],
      "text/plain": [
       "KNeighborsClassifier(n_neighbors=80)"
      ]
     },
     "execution_count": 18,
     "metadata": {},
     "output_type": "execute_result"
    }
   ],
   "source": [
    "# import KNN \n",
    "\n",
    "Model = KNeighborsClassifier(n_neighbors=80)\n",
    "Model.fit(X_Train, y_Train)"
   ]
  },
  {
   "cell_type": "code",
   "execution_count": 19,
   "id": "fe1d4e20",
   "metadata": {
    "execution": {
     "iopub.execute_input": "2023-11-01T15:18:29.383197Z",
     "iopub.status.busy": "2023-11-01T15:18:29.382635Z",
     "iopub.status.idle": "2023-11-01T15:18:29.399778Z",
     "shell.execute_reply": "2023-11-01T15:18:29.399074Z"
    },
    "papermill": {
     "duration": 0.02901,
     "end_time": "2023-11-01T15:18:29.401879",
     "exception": false,
     "start_time": "2023-11-01T15:18:29.372869",
     "status": "completed"
    },
    "tags": []
   },
   "outputs": [],
   "source": [
    "y_pred = Model.predict(X_Valid)"
   ]
  },
  {
   "cell_type": "code",
   "execution_count": 20,
   "id": "90ed3979",
   "metadata": {
    "execution": {
     "iopub.execute_input": "2023-11-01T15:18:29.472659Z",
     "iopub.status.busy": "2023-11-01T15:18:29.472132Z",
     "iopub.status.idle": "2023-11-01T15:18:29.483865Z",
     "shell.execute_reply": "2023-11-01T15:18:29.483007Z"
    },
    "papermill": {
     "duration": 0.023422,
     "end_time": "2023-11-01T15:18:29.485555",
     "exception": false,
     "start_time": "2023-11-01T15:18:29.462133",
     "status": "completed"
    },
    "tags": []
   },
   "outputs": [
    {
     "name": "stdout",
     "output_type": "stream",
     "text": [
      "              precision    recall  f1-score   support\n",
      "\n",
      "         0.0       0.81      0.87      0.83       105\n",
      "         1.0       0.78      0.70      0.74        73\n",
      "\n",
      "    accuracy                           0.80       178\n",
      "   macro avg       0.79      0.78      0.79       178\n",
      "weighted avg       0.80      0.80      0.80       178\n",
      "\n"
     ]
    }
   ],
   "source": [
    "from sklearn.metrics import classification_report \n",
    "\n",
    "report = classification_report(y_pred, y_Valid)\n",
    "print(report)"
   ]
  },
  {
   "cell_type": "code",
   "execution_count": 21,
   "id": "8829fe0e",
   "metadata": {
    "execution": {
     "iopub.execute_input": "2023-11-01T15:18:29.504467Z",
     "iopub.status.busy": "2023-11-01T15:18:29.503905Z",
     "iopub.status.idle": "2023-11-01T15:18:29.521293Z",
     "shell.execute_reply": "2023-11-01T15:18:29.519867Z"
    },
    "papermill": {
     "duration": 0.028674,
     "end_time": "2023-11-01T15:18:29.523001",
     "exception": false,
     "start_time": "2023-11-01T15:18:29.494327",
     "status": "completed"
    },
    "tags": []
   },
   "outputs": [
    {
     "name": "stdout",
     "output_type": "stream",
     "text": [
      "              precision    recall  f1-score   support\n",
      "\n",
      "         0.0       0.82      0.87      0.85       107\n",
      "         1.0       0.78      0.72      0.75        71\n",
      "\n",
      "    accuracy                           0.81       178\n",
      "   macro avg       0.80      0.79      0.80       178\n",
      "weighted avg       0.81      0.81      0.81       178\n",
      "\n"
     ]
    }
   ],
   "source": [
    "# KNN MODEL-2 \n",
    "\n",
    "Model_KNN_2 = KNeighborsClassifier(n_neighbors=50, weights =\"distance\", p=1,)\n",
    "Model_KNN_2.fit(X_Train, y_Train)\n",
    "\n",
    "y_pred_knn_2 = Model_KNN_2.predict(X_Valid)\n",
    "\n",
    "report_knn_2 = classification_report(y_pred_knn_2, y_Valid)\n",
    "print(report_knn_2)"
   ]
  },
  {
   "cell_type": "code",
   "execution_count": 22,
   "id": "225162d1",
   "metadata": {
    "execution": {
     "iopub.execute_input": "2023-11-01T15:18:29.541563Z",
     "iopub.status.busy": "2023-11-01T15:18:29.540857Z",
     "iopub.status.idle": "2023-11-01T15:18:29.569115Z",
     "shell.execute_reply": "2023-11-01T15:18:29.568251Z"
    },
    "papermill": {
     "duration": 0.039276,
     "end_time": "2023-11-01T15:18:29.570814",
     "exception": false,
     "start_time": "2023-11-01T15:18:29.531538",
     "status": "completed"
    },
    "tags": []
   },
   "outputs": [
    {
     "data": {
      "text/html": [
       "<style>#sk-container-id-2 {color: black;background-color: white;}#sk-container-id-2 pre{padding: 0;}#sk-container-id-2 div.sk-toggleable {background-color: white;}#sk-container-id-2 label.sk-toggleable__label {cursor: pointer;display: block;width: 100%;margin-bottom: 0;padding: 0.3em;box-sizing: border-box;text-align: center;}#sk-container-id-2 label.sk-toggleable__label-arrow:before {content: \"▸\";float: left;margin-right: 0.25em;color: #696969;}#sk-container-id-2 label.sk-toggleable__label-arrow:hover:before {color: black;}#sk-container-id-2 div.sk-estimator:hover label.sk-toggleable__label-arrow:before {color: black;}#sk-container-id-2 div.sk-toggleable__content {max-height: 0;max-width: 0;overflow: hidden;text-align: left;background-color: #f0f8ff;}#sk-container-id-2 div.sk-toggleable__content pre {margin: 0.2em;color: black;border-radius: 0.25em;background-color: #f0f8ff;}#sk-container-id-2 input.sk-toggleable__control:checked~div.sk-toggleable__content {max-height: 200px;max-width: 100%;overflow: auto;}#sk-container-id-2 input.sk-toggleable__control:checked~label.sk-toggleable__label-arrow:before {content: \"▾\";}#sk-container-id-2 div.sk-estimator input.sk-toggleable__control:checked~label.sk-toggleable__label {background-color: #d4ebff;}#sk-container-id-2 div.sk-label input.sk-toggleable__control:checked~label.sk-toggleable__label {background-color: #d4ebff;}#sk-container-id-2 input.sk-hidden--visually {border: 0;clip: rect(1px 1px 1px 1px);clip: rect(1px, 1px, 1px, 1px);height: 1px;margin: -1px;overflow: hidden;padding: 0;position: absolute;width: 1px;}#sk-container-id-2 div.sk-estimator {font-family: monospace;background-color: #f0f8ff;border: 1px dotted black;border-radius: 0.25em;box-sizing: border-box;margin-bottom: 0.5em;}#sk-container-id-2 div.sk-estimator:hover {background-color: #d4ebff;}#sk-container-id-2 div.sk-parallel-item::after {content: \"\";width: 100%;border-bottom: 1px solid gray;flex-grow: 1;}#sk-container-id-2 div.sk-label:hover label.sk-toggleable__label {background-color: #d4ebff;}#sk-container-id-2 div.sk-serial::before {content: \"\";position: absolute;border-left: 1px solid gray;box-sizing: border-box;top: 0;bottom: 0;left: 50%;z-index: 0;}#sk-container-id-2 div.sk-serial {display: flex;flex-direction: column;align-items: center;background-color: white;padding-right: 0.2em;padding-left: 0.2em;position: relative;}#sk-container-id-2 div.sk-item {position: relative;z-index: 1;}#sk-container-id-2 div.sk-parallel {display: flex;align-items: stretch;justify-content: center;background-color: white;position: relative;}#sk-container-id-2 div.sk-item::before, #sk-container-id-2 div.sk-parallel-item::before {content: \"\";position: absolute;border-left: 1px solid gray;box-sizing: border-box;top: 0;bottom: 0;left: 50%;z-index: -1;}#sk-container-id-2 div.sk-parallel-item {display: flex;flex-direction: column;z-index: 1;position: relative;background-color: white;}#sk-container-id-2 div.sk-parallel-item:first-child::after {align-self: flex-end;width: 50%;}#sk-container-id-2 div.sk-parallel-item:last-child::after {align-self: flex-start;width: 50%;}#sk-container-id-2 div.sk-parallel-item:only-child::after {width: 0;}#sk-container-id-2 div.sk-dashed-wrapped {border: 1px dashed gray;margin: 0 0.4em 0.5em 0.4em;box-sizing: border-box;padding-bottom: 0.4em;background-color: white;}#sk-container-id-2 div.sk-label label {font-family: monospace;font-weight: bold;display: inline-block;line-height: 1.2em;}#sk-container-id-2 div.sk-label-container {text-align: center;}#sk-container-id-2 div.sk-container {/* jupyter's `normalize.less` sets `[hidden] { display: none; }` but bootstrap.min.css set `[hidden] { display: none !important; }` so we also need the `!important` here to be able to override the default hidden behavior on the sphinx rendered scikit-learn.org. See: https://github.com/scikit-learn/scikit-learn/issues/21755 */display: inline-block !important;position: relative;}#sk-container-id-2 div.sk-text-repr-fallback {display: none;}</style><div id=\"sk-container-id-2\" class=\"sk-top-container\"><div class=\"sk-text-repr-fallback\"><pre>SVC(C=0.8, class_weight=&#x27;balanced&#x27;, kernel=&#x27;linear&#x27;)</pre><b>In a Jupyter environment, please rerun this cell to show the HTML representation or trust the notebook. <br />On GitHub, the HTML representation is unable to render, please try loading this page with nbviewer.org.</b></div><div class=\"sk-container\" hidden><div class=\"sk-item\"><div class=\"sk-estimator sk-toggleable\"><input class=\"sk-toggleable__control sk-hidden--visually\" id=\"sk-estimator-id-2\" type=\"checkbox\" checked><label for=\"sk-estimator-id-2\" class=\"sk-toggleable__label sk-toggleable__label-arrow\">SVC</label><div class=\"sk-toggleable__content\"><pre>SVC(C=0.8, class_weight=&#x27;balanced&#x27;, kernel=&#x27;linear&#x27;)</pre></div></div></div></div></div>"
      ],
      "text/plain": [
       "SVC(C=0.8, class_weight='balanced', kernel='linear')"
      ]
     },
     "execution_count": 22,
     "metadata": {},
     "output_type": "execute_result"
    }
   ],
   "source": [
    "from sklearn.svm import SVC \n",
    "\n",
    "Model_svc = SVC(kernel='linear', C=0.8, class_weight='balanced')\n",
    "Model_svc.fit(X_Train, y_Train)"
   ]
  },
  {
   "cell_type": "code",
   "execution_count": 23,
   "id": "4abacbe6",
   "metadata": {
    "execution": {
     "iopub.execute_input": "2023-11-01T15:18:29.589203Z",
     "iopub.status.busy": "2023-11-01T15:18:29.588864Z",
     "iopub.status.idle": "2023-11-01T15:18:29.593806Z",
     "shell.execute_reply": "2023-11-01T15:18:29.593027Z"
    },
    "papermill": {
     "duration": 0.016075,
     "end_time": "2023-11-01T15:18:29.595452",
     "exception": false,
     "start_time": "2023-11-01T15:18:29.579377",
     "status": "completed"
    },
    "tags": []
   },
   "outputs": [],
   "source": [
    "y_pred_svc = Model_svc.predict(X_Valid)"
   ]
  },
  {
   "cell_type": "code",
   "execution_count": 24,
   "id": "5f6b2120",
   "metadata": {
    "execution": {
     "iopub.execute_input": "2023-11-01T15:18:29.613788Z",
     "iopub.status.busy": "2023-11-01T15:18:29.613474Z",
     "iopub.status.idle": "2023-11-01T15:18:29.625579Z",
     "shell.execute_reply": "2023-11-01T15:18:29.624595Z"
    },
    "papermill": {
     "duration": 0.023308,
     "end_time": "2023-11-01T15:18:29.627156",
     "exception": false,
     "start_time": "2023-11-01T15:18:29.603848",
     "status": "completed"
    },
    "tags": []
   },
   "outputs": [
    {
     "name": "stdout",
     "output_type": "stream",
     "text": [
      "              precision    recall  f1-score   support\n",
      "\n",
      "         0.0       0.87      0.84      0.85       117\n",
      "         1.0       0.71      0.75      0.73        61\n",
      "\n",
      "    accuracy                           0.81       178\n",
      "   macro avg       0.79      0.80      0.79       178\n",
      "weighted avg       0.81      0.81      0.81       178\n",
      "\n"
     ]
    }
   ],
   "source": [
    "report_2 = classification_report(y_pred_svc, y_Valid)\n",
    "print(report_2)"
   ]
  },
  {
   "cell_type": "code",
   "execution_count": null,
   "id": "8cf11c98",
   "metadata": {
    "papermill": {
     "duration": 0.008389,
     "end_time": "2023-11-01T15:18:29.644237",
     "exception": false,
     "start_time": "2023-11-01T15:18:29.635848",
     "status": "completed"
    },
    "tags": []
   },
   "outputs": [],
   "source": []
  },
  {
   "cell_type": "markdown",
   "id": "4779750a",
   "metadata": {
    "papermill": {
     "duration": 0.00838,
     "end_time": "2023-11-01T15:18:29.661029",
     "exception": false,
     "start_time": "2023-11-01T15:18:29.652649",
     "status": "completed"
    },
    "tags": []
   },
   "source": [
    "***The best Accuracy is : 81% (Model : Model_SVC ) ***"
   ]
  },
  {
   "cell_type": "code",
   "execution_count": 25,
   "id": "6a4ae28a",
   "metadata": {
    "execution": {
     "iopub.execute_input": "2023-11-01T15:18:29.680904Z",
     "iopub.status.busy": "2023-11-01T15:18:29.680586Z",
     "iopub.status.idle": "2023-11-01T15:18:29.700199Z",
     "shell.execute_reply": "2023-11-01T15:18:29.699523Z"
    },
    "papermill": {
     "duration": 0.032581,
     "end_time": "2023-11-01T15:18:29.702123",
     "exception": false,
     "start_time": "2023-11-01T15:18:29.669542",
     "status": "completed"
    },
    "tags": []
   },
   "outputs": [
    {
     "data": {
      "text/html": [
       "<div>\n",
       "<style scoped>\n",
       "    .dataframe tbody tr th:only-of-type {\n",
       "        vertical-align: middle;\n",
       "    }\n",
       "\n",
       "    .dataframe tbody tr th {\n",
       "        vertical-align: top;\n",
       "    }\n",
       "\n",
       "    .dataframe thead th {\n",
       "        text-align: right;\n",
       "    }\n",
       "</style>\n",
       "<table border=\"1\" class=\"dataframe\">\n",
       "  <thead>\n",
       "    <tr style=\"text-align: right;\">\n",
       "      <th></th>\n",
       "      <th>PassengerId</th>\n",
       "      <th>Pclass</th>\n",
       "      <th>Name</th>\n",
       "      <th>Sex</th>\n",
       "      <th>Age</th>\n",
       "      <th>SibSp</th>\n",
       "      <th>Parch</th>\n",
       "      <th>Ticket</th>\n",
       "      <th>Fare</th>\n",
       "      <th>Cabin</th>\n",
       "      <th>Embarked</th>\n",
       "    </tr>\n",
       "  </thead>\n",
       "  <tbody>\n",
       "    <tr>\n",
       "      <th>0</th>\n",
       "      <td>892</td>\n",
       "      <td>3</td>\n",
       "      <td>Kelly, Mr. James</td>\n",
       "      <td>male</td>\n",
       "      <td>34.5</td>\n",
       "      <td>0</td>\n",
       "      <td>0</td>\n",
       "      <td>330911</td>\n",
       "      <td>7.8292</td>\n",
       "      <td>NaN</td>\n",
       "      <td>Q</td>\n",
       "    </tr>\n",
       "    <tr>\n",
       "      <th>1</th>\n",
       "      <td>893</td>\n",
       "      <td>3</td>\n",
       "      <td>Wilkes, Mrs. James (Ellen Needs)</td>\n",
       "      <td>female</td>\n",
       "      <td>47.0</td>\n",
       "      <td>1</td>\n",
       "      <td>0</td>\n",
       "      <td>363272</td>\n",
       "      <td>7.0000</td>\n",
       "      <td>NaN</td>\n",
       "      <td>S</td>\n",
       "    </tr>\n",
       "    <tr>\n",
       "      <th>2</th>\n",
       "      <td>894</td>\n",
       "      <td>2</td>\n",
       "      <td>Myles, Mr. Thomas Francis</td>\n",
       "      <td>male</td>\n",
       "      <td>62.0</td>\n",
       "      <td>0</td>\n",
       "      <td>0</td>\n",
       "      <td>240276</td>\n",
       "      <td>9.6875</td>\n",
       "      <td>NaN</td>\n",
       "      <td>Q</td>\n",
       "    </tr>\n",
       "    <tr>\n",
       "      <th>3</th>\n",
       "      <td>895</td>\n",
       "      <td>3</td>\n",
       "      <td>Wirz, Mr. Albert</td>\n",
       "      <td>male</td>\n",
       "      <td>27.0</td>\n",
       "      <td>0</td>\n",
       "      <td>0</td>\n",
       "      <td>315154</td>\n",
       "      <td>8.6625</td>\n",
       "      <td>NaN</td>\n",
       "      <td>S</td>\n",
       "    </tr>\n",
       "    <tr>\n",
       "      <th>4</th>\n",
       "      <td>896</td>\n",
       "      <td>3</td>\n",
       "      <td>Hirvonen, Mrs. Alexander (Helga E Lindqvist)</td>\n",
       "      <td>female</td>\n",
       "      <td>22.0</td>\n",
       "      <td>1</td>\n",
       "      <td>1</td>\n",
       "      <td>3101298</td>\n",
       "      <td>12.2875</td>\n",
       "      <td>NaN</td>\n",
       "      <td>S</td>\n",
       "    </tr>\n",
       "  </tbody>\n",
       "</table>\n",
       "</div>"
      ],
      "text/plain": [
       "   PassengerId  Pclass                                          Name     Sex  \\\n",
       "0          892       3                              Kelly, Mr. James    male   \n",
       "1          893       3              Wilkes, Mrs. James (Ellen Needs)  female   \n",
       "2          894       2                     Myles, Mr. Thomas Francis    male   \n",
       "3          895       3                              Wirz, Mr. Albert    male   \n",
       "4          896       3  Hirvonen, Mrs. Alexander (Helga E Lindqvist)  female   \n",
       "\n",
       "    Age  SibSp  Parch   Ticket     Fare Cabin Embarked  \n",
       "0  34.5      0      0   330911   7.8292   NaN        Q  \n",
       "1  47.0      1      0   363272   7.0000   NaN        S  \n",
       "2  62.0      0      0   240276   9.6875   NaN        Q  \n",
       "3  27.0      0      0   315154   8.6625   NaN        S  \n",
       "4  22.0      1      1  3101298  12.2875   NaN        S  "
      ]
     },
     "execution_count": 25,
     "metadata": {},
     "output_type": "execute_result"
    }
   ],
   "source": [
    "# import the Test dataset \n",
    "\n",
    "df_test = pd.read_csv('/kaggle/input/titanic/test.csv')\n",
    "df_test.head()"
   ]
  },
  {
   "cell_type": "code",
   "execution_count": 26,
   "id": "7750915e",
   "metadata": {
    "execution": {
     "iopub.execute_input": "2023-11-01T15:18:29.722353Z",
     "iopub.status.busy": "2023-11-01T15:18:29.722013Z",
     "iopub.status.idle": "2023-11-01T15:18:29.734792Z",
     "shell.execute_reply": "2023-11-01T15:18:29.733843Z"
    },
    "papermill": {
     "duration": 0.024615,
     "end_time": "2023-11-01T15:18:29.736344",
     "exception": false,
     "start_time": "2023-11-01T15:18:29.711729",
     "status": "completed"
    },
    "tags": []
   },
   "outputs": [
    {
     "name": "stderr",
     "output_type": "stream",
     "text": [
      "/tmp/ipykernel_20/2145380589.py:5: SettingWithCopyWarning: \n",
      "A value is trying to be set on a copy of a slice from a DataFrame.\n",
      "Try using .loc[row_indexer,col_indexer] = value instead\n",
      "\n",
      "See the caveats in the documentation: https://pandas.pydata.org/pandas-docs/stable/user_guide/indexing.html#returning-a-view-versus-a-copy\n",
      "  df_test_2['Sex'] = (df_test_2['Sex']=='male').astype(int)\n",
      "/tmp/ipykernel_20/2145380589.py:9: SettingWithCopyWarning: \n",
      "A value is trying to be set on a copy of a slice from a DataFrame.\n",
      "Try using .loc[row_indexer,col_indexer] = value instead\n",
      "\n",
      "See the caveats in the documentation: https://pandas.pydata.org/pandas-docs/stable/user_guide/indexing.html#returning-a-view-versus-a-copy\n",
      "  df_test_2['Embarked']=lbl_encdr.fit_transform(df_test_2['Embarked'])\n"
     ]
    }
   ],
   "source": [
    "df_test_2 = df_test[['Pclass', 'Sex', 'Age', 'SibSp', 'Parch', 'Fare', 'Embarked']]\n",
    "\n",
    "# converting the Sex from male/female to 1/0 (int Dtype)\n",
    "\n",
    "df_test_2['Sex'] = (df_test_2['Sex']=='male').astype(int)\n",
    "\n",
    "# Encoder Embarked\n",
    "lbl_encdr = LabelEncoder()\n",
    "df_test_2['Embarked']=lbl_encdr.fit_transform(df_test_2['Embarked'])\n",
    "\n",
    "#convert all to float\n",
    "df_test_2 = df_test_2.astype(float)\n",
    "\n",
    "# Fill the missing Values\n",
    "df_test_2['Age'].fillna(df_test_2['Age'].mean(), inplace=True)\n",
    "df_test_2['Fare'].fillna(df_test_2['Fare'].mean(), inplace=True)\n",
    "\n",
    "df_test_2 = df_test_2.astype(float)\n",
    "\n",
    "\n",
    "# Defind The Function of scalling data\n",
    "def scalling(dataframe):\n",
    "    X = dataframe[dataframe.columns].values\n",
    "    \n",
    "    scal = StandardScaler()\n",
    "    X = scal.fit_transform(X)\n",
    "    \n",
    "    return X\n",
    "\n",
    "# Call the finction \n",
    "X_Test = scalling(df_test_2)\n",
    "\n",
    "\n"
   ]
  },
  {
   "cell_type": "code",
   "execution_count": 27,
   "id": "c9885acb",
   "metadata": {
    "execution": {
     "iopub.execute_input": "2023-11-01T15:18:29.756674Z",
     "iopub.status.busy": "2023-11-01T15:18:29.756359Z",
     "iopub.status.idle": "2023-11-01T15:18:29.788461Z",
     "shell.execute_reply": "2023-11-01T15:18:29.787615Z"
    },
    "papermill": {
     "duration": 0.044689,
     "end_time": "2023-11-01T15:18:29.790546",
     "exception": false,
     "start_time": "2023-11-01T15:18:29.745857",
     "status": "completed"
    },
    "tags": []
   },
   "outputs": [],
   "source": [
    "#Predict Using SVC Model\n",
    "\n",
    "test_pred = Model.predict(X_Test)\n",
    "test_pred = test_pred.astype(int)"
   ]
  },
  {
   "cell_type": "code",
   "execution_count": 28,
   "id": "23d0ac79",
   "metadata": {
    "execution": {
     "iopub.execute_input": "2023-11-01T15:18:29.810449Z",
     "iopub.status.busy": "2023-11-01T15:18:29.810153Z",
     "iopub.status.idle": "2023-11-01T15:18:29.814549Z",
     "shell.execute_reply": "2023-11-01T15:18:29.813824Z"
    },
    "papermill": {
     "duration": 0.016174,
     "end_time": "2023-11-01T15:18:29.816179",
     "exception": false,
     "start_time": "2023-11-01T15:18:29.800005",
     "status": "completed"
    },
    "tags": []
   },
   "outputs": [],
   "source": [
    "# Prepar the Output\n",
    "output = pd.DataFrame({\n",
    "    'PassengerId': df_test.PassengerId,\n",
    "    'Survived' : test_pred\n",
    "})"
   ]
  },
  {
   "cell_type": "code",
   "execution_count": 29,
   "id": "97d4180e",
   "metadata": {
    "execution": {
     "iopub.execute_input": "2023-11-01T15:18:29.835582Z",
     "iopub.status.busy": "2023-11-01T15:18:29.835285Z",
     "iopub.status.idle": "2023-11-01T15:18:29.847631Z",
     "shell.execute_reply": "2023-11-01T15:18:29.846808Z"
    },
    "papermill": {
     "duration": 0.02387,
     "end_time": "2023-11-01T15:18:29.849226",
     "exception": false,
     "start_time": "2023-11-01T15:18:29.825356",
     "status": "completed"
    },
    "tags": []
   },
   "outputs": [
    {
     "name": "stdout",
     "output_type": "stream",
     "text": [
      "the data Shape : (418, 2)\n"
     ]
    },
    {
     "data": {
      "text/html": [
       "<div>\n",
       "<style scoped>\n",
       "    .dataframe tbody tr th:only-of-type {\n",
       "        vertical-align: middle;\n",
       "    }\n",
       "\n",
       "    .dataframe tbody tr th {\n",
       "        vertical-align: top;\n",
       "    }\n",
       "\n",
       "    .dataframe thead th {\n",
       "        text-align: right;\n",
       "    }\n",
       "</style>\n",
       "<table border=\"1\" class=\"dataframe\">\n",
       "  <thead>\n",
       "    <tr style=\"text-align: right;\">\n",
       "      <th></th>\n",
       "      <th>PassengerId</th>\n",
       "      <th>Survived</th>\n",
       "    </tr>\n",
       "  </thead>\n",
       "  <tbody>\n",
       "    <tr>\n",
       "      <th>0</th>\n",
       "      <td>892</td>\n",
       "      <td>0</td>\n",
       "    </tr>\n",
       "    <tr>\n",
       "      <th>1</th>\n",
       "      <td>893</td>\n",
       "      <td>1</td>\n",
       "    </tr>\n",
       "    <tr>\n",
       "      <th>2</th>\n",
       "      <td>894</td>\n",
       "      <td>0</td>\n",
       "    </tr>\n",
       "    <tr>\n",
       "      <th>3</th>\n",
       "      <td>895</td>\n",
       "      <td>0</td>\n",
       "    </tr>\n",
       "    <tr>\n",
       "      <th>4</th>\n",
       "      <td>896</td>\n",
       "      <td>1</td>\n",
       "    </tr>\n",
       "  </tbody>\n",
       "</table>\n",
       "</div>"
      ],
      "text/plain": [
       "   PassengerId  Survived\n",
       "0          892         0\n",
       "1          893         1\n",
       "2          894         0\n",
       "3          895         0\n",
       "4          896         1"
      ]
     },
     "execution_count": 29,
     "metadata": {},
     "output_type": "execute_result"
    }
   ],
   "source": [
    "# Creat the CSV File for the prediction \n",
    "output.to_csv('submission.csv', index=False)\n",
    "\n",
    "# Read the prediction Format\n",
    "sub = pd.read_csv('submission.csv')\n",
    "\n",
    "print('the data Shape :', sub.shape)\n",
    "sub.head()"
   ]
  }
 ],
 "metadata": {
  "kernelspec": {
   "display_name": "Python 3",
   "language": "python",
   "name": "python3"
  },
  "language_info": {
   "codemirror_mode": {
    "name": "ipython",
    "version": 3
   },
   "file_extension": ".py",
   "mimetype": "text/x-python",
   "name": "python",
   "nbconvert_exporter": "python",
   "pygments_lexer": "ipython3",
   "version": "3.10.12"
  },
  "papermill": {
   "default_parameters": {},
   "duration": 6.495441,
   "end_time": "2023-11-01T15:18:30.377099",
   "environment_variables": {},
   "exception": null,
   "input_path": "__notebook__.ipynb",
   "output_path": "__notebook__.ipynb",
   "parameters": {},
   "start_time": "2023-11-01T15:18:23.881658",
   "version": "2.4.0"
  }
 },
 "nbformat": 4,
 "nbformat_minor": 5
}
