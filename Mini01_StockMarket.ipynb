{
 "cells": [
  {
   "cell_type": "code",
   "execution_count": 1,
   "metadata": {
    "_kg_hide-input": false,
    "collapsed": false,
    "execution": {
     "iopub.execute_input": "2022-11-10T19:27:17.560406Z",
     "iopub.status.busy": "2022-11-10T19:27:17.559655Z",
     "iopub.status.idle": "2022-11-10T19:27:24.169755Z",
     "shell.execute_reply": "2022-11-10T19:27:24.169010Z",
     "shell.execute_reply.started": "2022-11-10T19:25:37.628570Z"
    },
    "jupyter": {
     "outputs_hidden": false
    },
    "papermill": {
     "duration": 6.62824,
     "end_time": "2022-11-10T19:27:24.169881",
     "exception": false,
     "start_time": "2022-11-10T19:27:17.541641",
     "status": "completed"
    },
    "tags": []
   },
   "outputs": [
    {
     "name": "stderr",
     "output_type": "stream",
     "text": [
      "Using TensorFlow backend.\n"
     ]
    }
   ],
   "source": [
    "#Rushikesh Thorat Miniproject on Stock Price Prediction\n",
    "\n",
    "import os\n",
    "import numpy as np\n",
    "\n",
    "import pandas as pd\n",
    "import matplotlib.pyplot as plt\n",
    "%matplotlib inline\n",
    "\n",
    "#Importing the Libraries\n",
    "%matplotlib inline\n",
    "import matplotlib. pyplot as plt\n",
    "from sklearn.preprocessing import MinMaxScaler\n",
    "from keras.layers import LSTM, Dense, Dropout\n",
    "from sklearn.model_selection import TimeSeriesSplit\n",
    "from sklearn.metrics import mean_squared_error, r2_score\n",
    "import matplotlib.dates as mandates\n",
    "from sklearn.preprocessing import MinMaxScaler\n",
    "from sklearn import linear_model\n",
    "from keras.models import Sequential\n",
    "from keras.layers import Dense\n",
    "from keras.callbacks import EarlyStopping\n",
    "from keras.models import load_model\n",
    "from keras.layers import LSTM\n",
    "from keras.utils.vis_utils import plot_model\n",
    "from keras.optimizers import Adam"
   ]
  },
  {
   "cell_type": "code",
   "execution_count": null,
   "metadata": {
    "papermill": {
     "duration": 0.01512,
     "end_time": "2022-11-10T19:27:24.200749",
     "exception": false,
     "start_time": "2022-11-10T19:27:24.185629",
     "status": "completed"
    },
    "tags": []
   },
   "outputs": [],
   "source": []
  },
  {
   "cell_type": "markdown",
   "metadata": {
    "papermill": {
     "duration": 0.015051,
     "end_time": "2022-11-10T19:27:24.231109",
     "exception": false,
     "start_time": "2022-11-10T19:27:24.216058",
     "status": "completed"
    },
    "tags": []
   },
   "source": []
  },
  {
   "cell_type": "markdown",
   "metadata": {
    "papermill": {
     "duration": 0.0154,
     "end_time": "2022-11-10T19:27:24.263098",
     "exception": false,
     "start_time": "2022-11-10T19:27:24.247698",
     "status": "completed"
    },
    "tags": []
   },
   "source": []
  },
  {
   "cell_type": "markdown",
   "metadata": {
    "papermill": {
     "duration": 0.015236,
     "end_time": "2022-11-10T19:27:24.294669",
     "exception": false,
     "start_time": "2022-11-10T19:27:24.279433",
     "status": "completed"
    },
    "tags": []
   },
   "source": []
  },
  {
   "cell_type": "code",
   "execution_count": null,
   "metadata": {
    "papermill": {
     "duration": 0.014955,
     "end_time": "2022-11-10T19:27:24.324910",
     "exception": false,
     "start_time": "2022-11-10T19:27:24.309955",
     "status": "completed"
    },
    "tags": []
   },
   "outputs": [],
   "source": []
  },
  {
   "cell_type": "markdown",
   "metadata": {
    "papermill": {
     "duration": 0.014962,
     "end_time": "2022-11-10T19:27:24.355480",
     "exception": false,
     "start_time": "2022-11-10T19:27:24.340518",
     "status": "completed"
    },
    "tags": []
   },
   "source": []
  },
  {
   "cell_type": "code",
   "execution_count": 2,
   "metadata": {
    "_kg_hide-input": false,
    "collapsed": false,
    "execution": {
     "iopub.execute_input": "2022-11-10T19:27:24.397803Z",
     "iopub.status.busy": "2022-11-10T19:27:24.397170Z",
     "iopub.status.idle": "2022-11-10T19:27:24.419578Z",
     "shell.execute_reply": "2022-11-10T19:27:24.420039Z",
     "shell.execute_reply.started": "2022-11-10T19:25:37.649303Z"
    },
    "jupyter": {
     "outputs_hidden": false
    },
    "papermill": {
     "duration": 0.049558,
     "end_time": "2022-11-10T19:27:24.420191",
     "exception": false,
     "start_time": "2022-11-10T19:27:24.370633",
     "status": "completed"
    },
    "tags": []
   },
   "outputs": [],
   "source": [
    "nRowsRead = 1000 \n",
    "df = pd.read_csv('/kaggle/input/Data/532746.BO.csv', delimiter=',', nrows = nRowsRead)\n",
    "df.dataframeName = '532746.BO.csv'\n",
    "nRow, nCol = df.shape"
   ]
  },
  {
   "cell_type": "code",
   "execution_count": 3,
   "metadata": {
    "execution": {
     "iopub.execute_input": "2022-11-10T19:27:24.454274Z",
     "iopub.status.busy": "2022-11-10T19:27:24.453522Z",
     "iopub.status.idle": "2022-11-10T19:27:24.471745Z",
     "shell.execute_reply": "2022-11-10T19:27:24.472196Z",
     "shell.execute_reply.started": "2022-11-10T19:25:37.685705Z"
    },
    "papermill": {
     "duration": 0.03705,
     "end_time": "2022-11-10T19:27:24.472336",
     "exception": false,
     "start_time": "2022-11-10T19:27:24.435286",
     "status": "completed"
    },
    "tags": []
   },
   "outputs": [
    {
     "data": {
      "text/html": [
       "<div>\n",
       "<style scoped>\n",
       "    .dataframe tbody tr th:only-of-type {\n",
       "        vertical-align: middle;\n",
       "    }\n",
       "\n",
       "    .dataframe tbody tr th {\n",
       "        vertical-align: top;\n",
       "    }\n",
       "\n",
       "    .dataframe thead th {\n",
       "        text-align: right;\n",
       "    }\n",
       "</style>\n",
       "<table border=\"1\" class=\"dataframe\">\n",
       "  <thead>\n",
       "    <tr style=\"text-align: right;\">\n",
       "      <th></th>\n",
       "      <th>Date</th>\n",
       "      <th>Open</th>\n",
       "      <th>High</th>\n",
       "      <th>Low</th>\n",
       "      <th>Close</th>\n",
       "      <th>Adj Close</th>\n",
       "      <th>Volume</th>\n",
       "    </tr>\n",
       "  </thead>\n",
       "  <tbody>\n",
       "    <tr>\n",
       "      <th>0</th>\n",
       "      <td>2006-06-12</td>\n",
       "      <td>130.000000</td>\n",
       "      <td>130.000000</td>\n",
       "      <td>92.419998</td>\n",
       "      <td>94.339996</td>\n",
       "      <td>94.339996</td>\n",
       "      <td>8097280</td>\n",
       "    </tr>\n",
       "    <tr>\n",
       "      <th>1</th>\n",
       "      <td>2006-06-13</td>\n",
       "      <td>93.059998</td>\n",
       "      <td>94.940002</td>\n",
       "      <td>77.120003</td>\n",
       "      <td>78.540001</td>\n",
       "      <td>78.540001</td>\n",
       "      <td>7475940</td>\n",
       "    </tr>\n",
       "    <tr>\n",
       "      <th>2</th>\n",
       "      <td>2006-06-14</td>\n",
       "      <td>80.000000</td>\n",
       "      <td>88.580002</td>\n",
       "      <td>74.209999</td>\n",
       "      <td>82.029999</td>\n",
       "      <td>82.029999</td>\n",
       "      <td>6582600</td>\n",
       "    </tr>\n",
       "    <tr>\n",
       "      <th>3</th>\n",
       "      <td>2006-06-19</td>\n",
       "      <td>88.019997</td>\n",
       "      <td>94.720001</td>\n",
       "      <td>82.269997</td>\n",
       "      <td>92.680000</td>\n",
       "      <td>92.680000</td>\n",
       "      <td>6085285</td>\n",
       "    </tr>\n",
       "    <tr>\n",
       "      <th>4</th>\n",
       "      <td>2006-06-20</td>\n",
       "      <td>89.940002</td>\n",
       "      <td>92.400002</td>\n",
       "      <td>86.800003</td>\n",
       "      <td>89.839996</td>\n",
       "      <td>89.839996</td>\n",
       "      <td>3506755</td>\n",
       "    </tr>\n",
       "  </tbody>\n",
       "</table>\n",
       "</div>"
      ],
      "text/plain": [
       "         Date        Open        High        Low      Close  Adj Close  \\\n",
       "0  2006-06-12  130.000000  130.000000  92.419998  94.339996  94.339996   \n",
       "1  2006-06-13   93.059998   94.940002  77.120003  78.540001  78.540001   \n",
       "2  2006-06-14   80.000000   88.580002  74.209999  82.029999  82.029999   \n",
       "3  2006-06-19   88.019997   94.720001  82.269997  92.680000  92.680000   \n",
       "4  2006-06-20   89.940002   92.400002  86.800003  89.839996  89.839996   \n",
       "\n",
       "    Volume  \n",
       "0  8097280  \n",
       "1  7475940  \n",
       "2  6582600  \n",
       "3  6085285  \n",
       "4  3506755  "
      ]
     },
     "execution_count": 3,
     "metadata": {},
     "output_type": "execute_result"
    }
   ],
   "source": [
    "df.head()"
   ]
  },
  {
   "cell_type": "code",
   "execution_count": null,
   "metadata": {
    "papermill": {
     "duration": 0.015625,
     "end_time": "2022-11-10T19:27:24.503537",
     "exception": false,
     "start_time": "2022-11-10T19:27:24.487912",
     "status": "completed"
    },
    "tags": []
   },
   "outputs": [],
   "source": []
  },
  {
   "cell_type": "code",
   "execution_count": 4,
   "metadata": {
    "execution": {
     "iopub.execute_input": "2022-11-10T19:27:24.538776Z",
     "iopub.status.busy": "2022-11-10T19:27:24.537976Z",
     "iopub.status.idle": "2022-11-10T19:27:24.545053Z",
     "shell.execute_reply": "2022-11-10T19:27:24.545488Z",
     "shell.execute_reply.started": "2022-11-10T19:25:37.706405Z"
    },
    "papermill": {
     "duration": 0.026109,
     "end_time": "2022-11-10T19:27:24.545625",
     "exception": false,
     "start_time": "2022-11-10T19:27:24.519516",
     "status": "completed"
    },
    "tags": []
   },
   "outputs": [
    {
     "data": {
      "text/plain": [
       "Date         0\n",
       "Open         0\n",
       "High         0\n",
       "Low          0\n",
       "Close        0\n",
       "Adj Close    0\n",
       "Volume       0\n",
       "dtype: int64"
      ]
     },
     "execution_count": 4,
     "metadata": {},
     "output_type": "execute_result"
    }
   ],
   "source": [
    "df.isnull().sum()"
   ]
  },
  {
   "cell_type": "code",
   "execution_count": 5,
   "metadata": {
    "execution": {
     "iopub.execute_input": "2022-11-10T19:27:24.581196Z",
     "iopub.status.busy": "2022-11-10T19:27:24.580477Z",
     "iopub.status.idle": "2022-11-10T19:27:24.776924Z",
     "shell.execute_reply": "2022-11-10T19:27:24.777349Z",
     "shell.execute_reply.started": "2022-11-10T19:25:37.729040Z"
    },
    "papermill": {
     "duration": 0.215728,
     "end_time": "2022-11-10T19:27:24.777508",
     "exception": false,
     "start_time": "2022-11-10T19:27:24.561780",
     "status": "completed"
    },
    "tags": []
   },
   "outputs": [
    {
     "data": {
      "text/plain": [
       "<matplotlib.axes._subplots.AxesSubplot at 0x7f11c3bb8990>"
      ]
     },
     "execution_count": 5,
     "metadata": {},
     "output_type": "execute_result"
    },
    {
     "data": {
      "image/png": "[encoded data removed]",
      "text/plain": [
       "<Figure size 432x288 with 1 Axes>"
      ]
     },
     "metadata": {
      "needs_background": "light"
     },
     "output_type": "display_data"
    }
   ],
   "source": [
    "df[\"Adj Close\"].plot()"
   ]
  },
  {
   "cell_type": "code",
   "execution_count": 6,
   "metadata": {
    "execution": {
     "iopub.execute_input": "2022-11-10T19:27:24.815258Z",
     "iopub.status.busy": "2022-11-10T19:27:24.814744Z",
     "iopub.status.idle": "2022-11-10T19:27:24.819752Z",
     "shell.execute_reply": "2022-11-10T19:27:24.820252Z",
     "shell.execute_reply.started": "2022-11-10T19:25:37.911180Z"
    },
    "papermill": {
     "duration": 0.025517,
     "end_time": "2022-11-10T19:27:24.820406",
     "exception": false,
     "start_time": "2022-11-10T19:27:24.794889",
     "status": "completed"
    },
    "tags": []
   },
   "outputs": [],
   "source": [
    "#Set Target Variable\n",
    "output_var = pd.DataFrame(df[\"Adj Close\"])\n",
    "#Selecting the Features\n",
    "features = [\"Open\", 'High', \"Low\", \"Volume\"]"
   ]
  },
  {
   "cell_type": "code",
   "execution_count": 7,
   "metadata": {
    "execution": {
     "iopub.execute_input": "2022-11-10T19:27:24.857177Z",
     "iopub.status.busy": "2022-11-10T19:27:24.856324Z",
     "iopub.status.idle": "2022-11-10T19:27:24.874137Z",
     "shell.execute_reply": "2022-11-10T19:27:24.874605Z",
     "shell.execute_reply.started": "2022-11-10T19:25:37.922340Z"
    },
    "papermill": {
     "duration": 0.037627,
     "end_time": "2022-11-10T19:27:24.874833",
     "exception": false,
     "start_time": "2022-11-10T19:27:24.837206",
     "status": "completed"
    },
    "tags": []
   },
   "outputs": [
    {
     "data": {
      "text/html": [
       "<div>\n",
       "<style scoped>\n",
       "    .dataframe tbody tr th:only-of-type {\n",
       "        vertical-align: middle;\n",
       "    }\n",
       "\n",
       "    .dataframe tbody tr th {\n",
       "        vertical-align: top;\n",
       "    }\n",
       "\n",
       "    .dataframe thead th {\n",
       "        text-align: right;\n",
       "    }\n",
       "</style>\n",
       "<table border=\"1\" class=\"dataframe\">\n",
       "  <thead>\n",
       "    <tr style=\"text-align: right;\">\n",
       "      <th></th>\n",
       "      <th>Open</th>\n",
       "      <th>High</th>\n",
       "      <th>Low</th>\n",
       "      <th>Volume</th>\n",
       "    </tr>\n",
       "  </thead>\n",
       "  <tbody>\n",
       "    <tr>\n",
       "      <th>0</th>\n",
       "      <td>0.589935</td>\n",
       "      <td>0.551098</td>\n",
       "      <td>0.414586</td>\n",
       "      <td>0.644073</td>\n",
       "    </tr>\n",
       "    <tr>\n",
       "      <th>1</th>\n",
       "      <td>0.402717</td>\n",
       "      <td>0.383668</td>\n",
       "      <td>0.334313</td>\n",
       "      <td>0.594650</td>\n",
       "    </tr>\n",
       "    <tr>\n",
       "      <th>2</th>\n",
       "      <td>0.336526</td>\n",
       "      <td>0.353295</td>\n",
       "      <td>0.319045</td>\n",
       "      <td>0.523593</td>\n",
       "    </tr>\n",
       "    <tr>\n",
       "      <th>3</th>\n",
       "      <td>0.377173</td>\n",
       "      <td>0.382617</td>\n",
       "      <td>0.361333</td>\n",
       "      <td>0.484035</td>\n",
       "    </tr>\n",
       "    <tr>\n",
       "      <th>4</th>\n",
       "      <td>0.386904</td>\n",
       "      <td>0.371538</td>\n",
       "      <td>0.385100</td>\n",
       "      <td>0.278934</td>\n",
       "    </tr>\n",
       "  </tbody>\n",
       "</table>\n",
       "</div>"
      ],
      "text/plain": [
       "       Open      High       Low    Volume\n",
       "0  0.589935  0.551098  0.414586  0.644073\n",
       "1  0.402717  0.383668  0.334313  0.594650\n",
       "2  0.336526  0.353295  0.319045  0.523593\n",
       "3  0.377173  0.382617  0.361333  0.484035\n",
       "4  0.386904  0.371538  0.385100  0.278934"
      ]
     },
     "execution_count": 7,
     "metadata": {},
     "output_type": "execute_result"
    }
   ],
   "source": [
    "#normalising dataset\n",
    "from sklearn.preprocessing import MinMaxScaler\n",
    "scaler = MinMaxScaler()\n",
    "feature_transform = scaler.fit_transform(df[features])\n",
    "feature_transform= pd.DataFrame(columns=features, data=feature_transform, index=df.index)\n",
    "feature_transform.head()"
   ]
  },
  {
   "cell_type": "code",
   "execution_count": 8,
   "metadata": {
    "execution": {
     "iopub.execute_input": "2022-11-10T19:27:24.912735Z",
     "iopub.status.busy": "2022-11-10T19:27:24.912182Z",
     "iopub.status.idle": "2022-11-10T19:27:24.921392Z",
     "shell.execute_reply": "2022-11-10T19:27:24.921849Z",
     "shell.execute_reply.started": "2022-11-10T19:25:37.950425Z"
    },
    "papermill": {
     "duration": 0.029263,
     "end_time": "2022-11-10T19:27:24.921980",
     "exception": false,
     "start_time": "2022-11-10T19:27:24.892717",
     "status": "completed"
    },
    "tags": []
   },
   "outputs": [],
   "source": [
    "from sklearn.model_selection import TimeSeriesSplit\n",
    "timesplit= TimeSeriesSplit(n_splits=10)\n",
    "for train_index, test_index in timesplit.split(feature_transform):\n",
    "        X_train, X_test = feature_transform[:len(train_index)], feature_transform[len(train_index): (len(train_index)+len(test_index))]\n",
    "        y_train, y_test = output_var[:len(train_index)].values.ravel(), output_var[len(train_index): (len(train_index)+len(test_index))].values.ravel()"
   ]
  },
  {
   "cell_type": "code",
   "execution_count": 9,
   "metadata": {
    "execution": {
     "iopub.execute_input": "2022-11-10T19:27:24.960221Z",
     "iopub.status.busy": "2022-11-10T19:27:24.959698Z",
     "iopub.status.idle": "2022-11-10T19:27:24.964556Z",
     "shell.execute_reply": "2022-11-10T19:27:24.965016Z",
     "shell.execute_reply.started": "2022-11-10T19:25:37.970261Z"
    },
    "papermill": {
     "duration": 0.025629,
     "end_time": "2022-11-10T19:27:24.965150",
     "exception": false,
     "start_time": "2022-11-10T19:27:24.939521",
     "status": "completed"
    },
    "tags": []
   },
   "outputs": [],
   "source": [
    "#Process the data for LSTM\n",
    "trainX =np.array(X_train)\n",
    "testX =np.array(X_test)\n",
    "X_train = trainX.reshape(X_train.shape[0], 1, X_train.shape[1])\n",
    "X_test = testX.reshape(X_test.shape[0], 1, X_test.shape[1])"
   ]
  },
  {
   "cell_type": "code",
   "execution_count": 10,
   "metadata": {
    "execution": {
     "iopub.execute_input": "2022-11-10T19:27:25.002600Z",
     "iopub.status.busy": "2022-11-10T19:27:25.002066Z",
     "iopub.status.idle": "2022-11-10T19:27:25.809013Z",
     "shell.execute_reply": "2022-11-10T19:27:25.809470Z",
     "shell.execute_reply.started": "2022-11-10T19:25:37.985912Z"
    },
    "papermill": {
     "duration": 0.827315,
     "end_time": "2022-11-10T19:27:25.809610",
     "exception": false,
     "start_time": "2022-11-10T19:27:24.982295",
     "status": "completed"
    },
    "tags": []
   },
   "outputs": [
    {
     "data": {
      "image/png": "[encoded data removed]",
      "text/plain": [
       "<IPython.core.display.Image object>"
      ]
     },
     "execution_count": 10,
     "metadata": {},
     "output_type": "execute_result"
    }
   ],
   "source": [
    "#Building the LSTM Model\n",
    "lstm = Sequential()\n",
    "lstm.add(LSTM(32, input_shape=(1, trainX.shape[1]), activation=\"relu\", return_sequences=False))\n",
    "lstm.add(Dense(1))\n",
    "lstm.compile(loss=\"mean_squared_error\", optimizer=\"adam\")\n",
    "plot_model(lstm, show_shapes=True, show_layer_names=True)"
   ]
  },
  {
   "cell_type": "code",
   "execution_count": 11,
   "metadata": {
    "execution": {
     "iopub.execute_input": "2022-11-10T19:27:25.848891Z",
     "iopub.status.busy": "2022-11-10T19:27:25.848336Z",
     "iopub.status.idle": "2022-11-10T19:27:26.023433Z",
     "shell.execute_reply": "2022-11-10T19:27:26.022775Z",
     "shell.execute_reply.started": "2022-11-10T19:25:38.260605Z"
    },
    "papermill": {
     "duration": 0.195904,
     "end_time": "2022-11-10T19:27:26.023556",
     "exception": false,
     "start_time": "2022-11-10T19:27:25.827652",
     "status": "completed"
    },
    "tags": []
   },
   "outputs": [
    {
     "data": {
      "image/png": "[encoded data removed]",
      "text/plain": [
       "<IPython.core.display.Image object>"
      ]
     },
     "execution_count": 11,
     "metadata": {},
     "output_type": "execute_result"
    }
   ],
   "source": [
    "#Building the LSTM Model\n",
    "lstm = Sequential()\n",
    "lstm.add(LSTM(32, input_shape=(1, trainX.shape[1]), activation=\"relu\", return_sequences=False))\n",
    "lstm.add(Dense(1))\n",
    "lstm.compile(loss=\"mean_squared_error\", optimizer=\"adam\")\n",
    "plot_model(lstm, show_shapes=True, show_layer_names=True)"
   ]
  },
  {
   "cell_type": "code",
   "execution_count": 12,
   "metadata": {
    "execution": {
     "iopub.execute_input": "2022-11-10T19:27:26.069596Z",
     "iopub.status.busy": "2022-11-10T19:27:26.068916Z",
     "iopub.status.idle": "2022-11-10T19:27:48.797560Z",
     "shell.execute_reply": "2022-11-10T19:27:48.797060Z",
     "shell.execute_reply.started": "2022-11-10T19:25:38.537282Z"
    },
    "papermill": {
     "duration": 22.751548,
     "end_time": "2022-11-10T19:27:48.797665",
     "exception": false,
     "start_time": "2022-11-10T19:27:26.046117",
     "status": "completed"
    },
    "tags": []
   },
   "outputs": [
    {
     "name": "stdout",
     "output_type": "stream",
     "text": [
      "Epoch 1/100\n",
      "910/910 [==============================] - 1s 742us/step - loss: 9718.2378\n",
      "Epoch 2/100\n",
      "910/910 [==============================] - 0s 248us/step - loss: 9560.6511\n",
      "Epoch 3/100\n",
      "910/910 [==============================] - 0s 247us/step - loss: 9150.8741\n",
      "Epoch 4/100\n",
      "910/910 [==============================] - 0s 216us/step - loss: 8386.1111\n",
      "Epoch 5/100\n",
      "910/910 [==============================] - 0s 207us/step - loss: 7290.7224\n",
      "Epoch 6/100\n",
      "910/910 [==============================] - 0s 227us/step - loss: 5994.6967\n",
      "Epoch 7/100\n",
      "910/910 [==============================] - 0s 236us/step - loss: 4661.5404\n",
      "Epoch 8/100\n",
      "910/910 [==============================] - 0s 240us/step - loss: 3429.1535\n",
      "Epoch 9/100\n",
      "910/910 [==============================] - 0s 232us/step - loss: 2386.6384\n",
      "Epoch 10/100\n",
      "910/910 [==============================] - 0s 220us/step - loss: 1573.6565\n",
      "Epoch 11/100\n",
      "910/910 [==============================] - 0s 211us/step - loss: 988.6807\n",
      "Epoch 12/100\n",
      "910/910 [==============================] - 0s 213us/step - loss: 601.0970\n",
      "Epoch 13/100\n",
      "910/910 [==============================] - 0s 210us/step - loss: 365.0963\n",
      "Epoch 14/100\n",
      "910/910 [==============================] - 0s 216us/step - loss: 232.8512\n",
      "Epoch 15/100\n",
      "910/910 [==============================] - 0s 223us/step - loss: 164.0153\n",
      "Epoch 16/100\n",
      "910/910 [==============================] - 0s 223us/step - loss: 129.8720\n",
      "Epoch 17/100\n",
      "910/910 [==============================] - 0s 197us/step - loss: 112.8060\n",
      "Epoch 18/100\n",
      "910/910 [==============================] - 0s 232us/step - loss: 103.3571\n",
      "Epoch 19/100\n",
      "910/910 [==============================] - 0s 199us/step - loss: 97.0127\n",
      "Epoch 20/100\n",
      "910/910 [==============================] - 0s 244us/step - loss: 91.8357\n",
      "Epoch 21/100\n",
      "910/910 [==============================] - 0s 234us/step - loss: 87.0705\n",
      "Epoch 22/100\n",
      "910/910 [==============================] - 0s 253us/step - loss: 82.4494\n",
      "Epoch 23/100\n",
      "910/910 [==============================] - 0s 243us/step - loss: 77.8903\n",
      "Epoch 24/100\n",
      "910/910 [==============================] - 0s 215us/step - loss: 73.3778\n",
      "Epoch 25/100\n",
      "910/910 [==============================] - 0s 233us/step - loss: 68.9200\n",
      "Epoch 26/100\n",
      "910/910 [==============================] - 0s 226us/step - loss: 64.5338\n",
      "Epoch 27/100\n",
      "910/910 [==============================] - 0s 253us/step - loss: 60.2392\n",
      "Epoch 28/100\n",
      "910/910 [==============================] - 0s 216us/step - loss: 56.0570\n",
      "Epoch 29/100\n",
      "910/910 [==============================] - 0s 235us/step - loss: 52.0079\n",
      "Epoch 30/100\n",
      "910/910 [==============================] - 0s 227us/step - loss: 48.1167\n",
      "Epoch 31/100\n",
      "910/910 [==============================] - 0s 265us/step - loss: 44.3641\n",
      "Epoch 32/100\n",
      "910/910 [==============================] - 0s 221us/step - loss: 40.7807\n",
      "Epoch 33/100\n",
      "910/910 [==============================] - 0s 238us/step - loss: 37.3104\n",
      "Epoch 34/100\n",
      "910/910 [==============================] - 0s 247us/step - loss: 34.0186\n",
      "Epoch 35/100\n",
      "910/910 [==============================] - 0s 229us/step - loss: 30.8632\n",
      "Epoch 36/100\n",
      "910/910 [==============================] - 0s 233us/step - loss: 27.9184\n",
      "Epoch 37/100\n",
      "910/910 [==============================] - 0s 254us/step - loss: 25.2003\n",
      "Epoch 38/100\n",
      "910/910 [==============================] - 0s 236us/step - loss: 22.7200\n",
      "Epoch 39/100\n",
      "910/910 [==============================] - 0s 233us/step - loss: 20.5053\n",
      "Epoch 40/100\n",
      "910/910 [==============================] - 0s 278us/step - loss: 18.5569\n",
      "Epoch 41/100\n",
      "910/910 [==============================] - 0s 245us/step - loss: 16.8719\n",
      "Epoch 42/100\n",
      "910/910 [==============================] - 0s 235us/step - loss: 15.4386\n",
      "Epoch 43/100\n",
      "910/910 [==============================] - 0s 258us/step - loss: 14.2406\n",
      "Epoch 44/100\n",
      "910/910 [==============================] - 0s 261us/step - loss: 13.2537\n",
      "Epoch 45/100\n",
      "910/910 [==============================] - 0s 247us/step - loss: 12.4511\n",
      "Epoch 46/100\n",
      "910/910 [==============================] - 0s 221us/step - loss: 11.8077\n",
      "Epoch 47/100\n",
      "910/910 [==============================] - 0s 231us/step - loss: 11.2988\n",
      "Epoch 48/100\n",
      "910/910 [==============================] - 0s 222us/step - loss: 10.8986\n",
      "Epoch 49/100\n",
      "910/910 [==============================] - 0s 215us/step - loss: 10.5819\n",
      "Epoch 50/100\n",
      "910/910 [==============================] - 0s 218us/step - loss: 10.3295\n",
      "Epoch 51/100\n",
      "910/910 [==============================] - 0s 216us/step - loss: 10.1318\n",
      "Epoch 52/100\n",
      "910/910 [==============================] - 0s 236us/step - loss: 9.9676\n",
      "Epoch 53/100\n",
      "910/910 [==============================] - 0s 256us/step - loss: 9.8335\n",
      "Epoch 54/100\n",
      "910/910 [==============================] - 0s 256us/step - loss: 9.7202\n",
      "Epoch 55/100\n",
      "910/910 [==============================] - 0s 252us/step - loss: 9.6212\n",
      "Epoch 56/100\n",
      "910/910 [==============================] - 0s 222us/step - loss: 9.5326\n",
      "Epoch 57/100\n",
      "910/910 [==============================] - 0s 226us/step - loss: 9.4523\n",
      "Epoch 58/100\n",
      "910/910 [==============================] - 0s 242us/step - loss: 9.3773\n",
      "Epoch 59/100\n",
      "910/910 [==============================] - 0s 243us/step - loss: 9.3084\n",
      "Epoch 60/100\n",
      "910/910 [==============================] - 0s 233us/step - loss: 9.2432\n",
      "Epoch 61/100\n",
      "910/910 [==============================] - 0s 255us/step - loss: 9.1816\n",
      "Epoch 62/100\n",
      "910/910 [==============================] - 0s 257us/step - loss: 9.1236\n",
      "Epoch 63/100\n",
      "910/910 [==============================] - 0s 276us/step - loss: 9.0711\n",
      "Epoch 64/100\n",
      "910/910 [==============================] - 0s 251us/step - loss: 9.0221\n",
      "Epoch 65/100\n",
      "910/910 [==============================] - 0s 243us/step - loss: 8.9761\n",
      "Epoch 66/100\n",
      "910/910 [==============================] - 0s 275us/step - loss: 8.9331\n",
      "Epoch 67/100\n",
      "910/910 [==============================] - 0s 262us/step - loss: 8.8928\n",
      "Epoch 68/100\n",
      "910/910 [==============================] - 0s 251us/step - loss: 8.8551\n",
      "Epoch 69/100\n",
      "910/910 [==============================] - 0s 259us/step - loss: 8.8199\n",
      "Epoch 70/100\n",
      "910/910 [==============================] - 0s 206us/step - loss: 8.7870\n",
      "Epoch 71/100\n",
      "910/910 [==============================] - 0s 240us/step - loss: 8.7562\n",
      "Epoch 72/100\n",
      "910/910 [==============================] - 0s 261us/step - loss: 8.7274\n",
      "Epoch 73/100\n",
      "910/910 [==============================] - 0s 252us/step - loss: 8.7004\n",
      "Epoch 74/100\n",
      "910/910 [==============================] - 0s 247us/step - loss: 8.6752\n",
      "Epoch 75/100\n",
      "910/910 [==============================] - 0s 220us/step - loss: 8.6514\n",
      "Epoch 76/100\n",
      "910/910 [==============================] - 0s 266us/step - loss: 8.6291\n",
      "Epoch 77/100\n",
      "910/910 [==============================] - 0s 254us/step - loss: 8.6080\n",
      "Epoch 78/100\n",
      "910/910 [==============================] - 0s 252us/step - loss: 8.5881\n",
      "Epoch 79/100\n",
      "910/910 [==============================] - 0s 253us/step - loss: 8.5690\n",
      "Epoch 80/100\n",
      "910/910 [==============================] - 0s 254us/step - loss: 8.5511\n",
      "Epoch 81/100\n",
      "910/910 [==============================] - 0s 244us/step - loss: 8.5338\n",
      "Epoch 82/100\n",
      "910/910 [==============================] - 0s 251us/step - loss: 8.5173\n",
      "Epoch 83/100\n",
      "910/910 [==============================] - 0s 235us/step - loss: 8.5011\n",
      "Epoch 84/100\n",
      "910/910 [==============================] - 0s 249us/step - loss: 8.4857\n",
      "Epoch 85/100\n",
      "910/910 [==============================] - 0s 275us/step - loss: 8.4710\n",
      "Epoch 86/100\n",
      "910/910 [==============================] - 0s 255us/step - loss: 8.4565\n",
      "Epoch 87/100\n",
      "910/910 [==============================] - 0s 225us/step - loss: 8.4421\n",
      "Epoch 88/100\n",
      "910/910 [==============================] - 0s 224us/step - loss: 8.4282\n",
      "Epoch 89/100\n",
      "910/910 [==============================] - 0s 254us/step - loss: 8.4147\n",
      "Epoch 90/100\n",
      "910/910 [==============================] - 0s 234us/step - loss: 8.4015\n",
      "Epoch 91/100\n",
      "910/910 [==============================] - 0s 233us/step - loss: 8.3878\n",
      "Epoch 92/100\n",
      "910/910 [==============================] - 0s 223us/step - loss: 8.3752\n",
      "Epoch 93/100\n",
      "910/910 [==============================] - 0s 219us/step - loss: 8.3623\n",
      "Epoch 94/100\n",
      "910/910 [==============================] - 0s 198us/step - loss: 8.3493\n",
      "Epoch 95/100\n",
      "910/910 [==============================] - 0s 224us/step - loss: 8.3372\n",
      "Epoch 96/100\n",
      "910/910 [==============================] - 0s 218us/step - loss: 8.3237\n",
      "Epoch 97/100\n",
      "910/910 [==============================] - 0s 243us/step - loss: 8.3124\n",
      "Epoch 98/100\n",
      "910/910 [==============================] - 0s 242us/step - loss: 8.2994\n",
      "Epoch 99/100\n",
      "910/910 [==============================] - 0s 239us/step - loss: 8.2871\n",
      "Epoch 100/100\n",
      "910/910 [==============================] - 0s 230us/step - loss: 8.2750\n"
     ]
    }
   ],
   "source": [
    "#Model Training\n",
    "history=lstm.fit(X_train, y_train, epochs=100, batch_size=8, verbose=1, shuffle=False)"
   ]
  },
  {
   "cell_type": "code",
   "execution_count": 13,
   "metadata": {
    "execution": {
     "iopub.execute_input": "2022-11-10T19:27:49.135514Z",
     "iopub.status.busy": "2022-11-10T19:27:49.134864Z",
     "iopub.status.idle": "2022-11-10T19:27:49.226825Z",
     "shell.execute_reply": "2022-11-10T19:27:49.226233Z",
     "shell.execute_reply.started": "2022-11-10T19:26:00.699623Z"
    },
    "papermill": {
     "duration": 0.263733,
     "end_time": "2022-11-10T19:27:49.226945",
     "exception": false,
     "start_time": "2022-11-10T19:27:48.963212",
     "status": "completed"
    },
    "tags": []
   },
   "outputs": [],
   "source": [
    "#LSTM Prediction\n",
    "y_pred= lstm.predict(X_test)"
   ]
  },
  {
   "cell_type": "code",
   "execution_count": 14,
   "metadata": {
    "execution": {
     "iopub.execute_input": "2022-11-10T19:27:49.567224Z",
     "iopub.status.busy": "2022-11-10T19:27:49.566604Z",
     "iopub.status.idle": "2022-11-10T19:27:49.710411Z",
     "shell.execute_reply": "2022-11-10T19:27:49.710825Z",
     "shell.execute_reply.started": "2022-11-10T19:26:00.830199Z"
    },
    "papermill": {
     "duration": 0.315839,
     "end_time": "2022-11-10T19:27:49.710951",
     "exception": false,
     "start_time": "2022-11-10T19:27:49.395112",
     "status": "completed"
    },
    "tags": []
   },
   "outputs": [
    {
     "data": {
      "image/png": "[encoded data removed]",
      "text/plain": [
       "<Figure size 432x288 with 1 Axes>"
      ]
     },
     "metadata": {
      "needs_background": "light"
     },
     "output_type": "display_data"
    }
   ],
   "source": [
    "#Predicted vs True Adj Close Value – LSTM\n",
    "plt.plot(y_test, label=\"True Value\")\n",
    "plt.plot(y_pred, label=\"LSTM Value\")\n",
    "plt.title(\"Prediction by LSTM\")\n",
    "plt.xlabel(\"Time Scale\")\n",
    "plt.ylabel(\"Scaled USD\")\n",
    "plt.legend()\n",
    "plt.show()"
   ]
  },
  {
   "cell_type": "markdown",
   "metadata": {
    "papermill": {
     "duration": 0.166936,
     "end_time": "2022-11-10T19:27:50.047917",
     "exception": false,
     "start_time": "2022-11-10T19:27:49.880981",
     "status": "completed"
    },
    "tags": []
   },
   "source": []
  },
  {
   "cell_type": "code",
   "execution_count": 15,
   "metadata": {
    "execution": {
     "iopub.execute_input": "2022-11-10T19:27:50.394528Z",
     "iopub.status.busy": "2022-11-10T19:27:50.392982Z",
     "iopub.status.idle": "2022-11-10T19:27:50.398694Z",
     "shell.execute_reply": "2022-11-10T19:27:50.399086Z",
     "shell.execute_reply.started": "2022-11-10T19:26:01.044488Z"
    },
    "papermill": {
     "duration": 0.182022,
     "end_time": "2022-11-10T19:27:50.399228",
     "exception": false,
     "start_time": "2022-11-10T19:27:50.217206",
     "status": "completed"
    },
    "tags": []
   },
   "outputs": [
    {
     "data": {
      "text/plain": [
       "0.8947328179915498"
      ]
     },
     "execution_count": 15,
     "metadata": {},
     "output_type": "execute_result"
    }
   ],
   "source": [
    "import sklearn\n",
    "sklearn.metrics.r2_score(y_test, y_pred)"
   ]
  },
  {
   "cell_type": "code",
   "execution_count": null,
   "metadata": {
    "papermill": {
     "duration": 0.16879,
     "end_time": "2022-11-10T19:27:50.736694",
     "exception": false,
     "start_time": "2022-11-10T19:27:50.567904",
     "status": "completed"
    },
    "tags": []
   },
   "outputs": [],
   "source": []
  },
  {
   "cell_type": "code",
   "execution_count": null,
   "metadata": {
    "papermill": {
     "duration": 0.169251,
     "end_time": "2022-11-10T19:27:51.077806",
     "exception": false,
     "start_time": "2022-11-10T19:27:50.908555",
     "status": "completed"
    },
    "tags": []
   },
   "outputs": [],
   "source": []
  },
  {
   "cell_type": "code",
   "execution_count": null,
   "metadata": {
    "papermill": {
     "duration": 0.169631,
     "end_time": "2022-11-10T19:27:51.417262",
     "exception": false,
     "start_time": "2022-11-10T19:27:51.247631",
     "status": "completed"
    },
    "tags": []
   },
   "outputs": [],
   "source": []
  }
 ],
 "metadata": {
  "kernelspec": {
   "display_name": "Python 3",
   "language": "python",
   "name": "python3"
  },
  "language_info": {
   "codemirror_mode": {
    "name": "ipython",
    "version": 3
   },
   "file_extension": ".py",
   "mimetype": "text/x-python",
   "name": "python",
   "nbconvert_exporter": "python",
   "pygments_lexer": "ipython3",
   "version": "3.7.6"
  },
  "papermill": {
   "duration": 38.164848,
   "end_time": "2022-11-10T19:27:51.693307",
   "environment_variables": {},
   "exception": null,
   "input_path": "__notebook__.ipynb",
   "output_path": "__notebook__.ipynb",
   "parameters": {},
   "start_time": "2022-11-10T19:27:13.528459",
   "version": "2.1.0"
  }
 },
 "nbformat": 4,
 "nbformat_minor": 4
}
